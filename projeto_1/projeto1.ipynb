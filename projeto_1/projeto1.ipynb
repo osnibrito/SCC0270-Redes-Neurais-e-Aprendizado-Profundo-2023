{
 "cells": [
  {
   "cell_type": "code",
   "execution_count": 202,
   "metadata": {},
   "outputs": [],
   "source": [
    "import numpy as np\n",
    "import pandas as pd"
   ]
  },
  {
   "cell_type": "code",
   "execution_count": 203,
   "metadata": {},
   "outputs": [
    {
     "data": {
      "text/html": [
       "<div>\n",
       "<style scoped>\n",
       "    .dataframe tbody tr th:only-of-type {\n",
       "        vertical-align: middle;\n",
       "    }\n",
       "\n",
       "    .dataframe tbody tr th {\n",
       "        vertical-align: top;\n",
       "    }\n",
       "\n",
       "    .dataframe thead th {\n",
       "        text-align: right;\n",
       "    }\n",
       "</style>\n",
       "<table border=\"1\" class=\"dataframe\">\n",
       "  <thead>\n",
       "    <tr style=\"text-align: right;\">\n",
       "      <th></th>\n",
       "      <th>V1</th>\n",
       "      <th>V2</th>\n",
       "      <th>V3</th>\n",
       "      <th>V4</th>\n",
       "      <th>V5</th>\n",
       "      <th>V6</th>\n",
       "      <th>V7</th>\n",
       "      <th>V8</th>\n",
       "      <th>V9</th>\n",
       "      <th>V10</th>\n",
       "      <th>...</th>\n",
       "      <th>V20</th>\n",
       "      <th>V21</th>\n",
       "      <th>V22</th>\n",
       "      <th>V23</th>\n",
       "      <th>V24</th>\n",
       "      <th>V25</th>\n",
       "      <th>V26</th>\n",
       "      <th>V27</th>\n",
       "      <th>V28</th>\n",
       "      <th>Class</th>\n",
       "    </tr>\n",
       "  </thead>\n",
       "  <tbody>\n",
       "    <tr>\n",
       "      <th>0</th>\n",
       "      <td>-1.359807</td>\n",
       "      <td>-0.072781</td>\n",
       "      <td>2.536347</td>\n",
       "      <td>1.378155</td>\n",
       "      <td>-0.338321</td>\n",
       "      <td>0.462388</td>\n",
       "      <td>0.239599</td>\n",
       "      <td>0.098698</td>\n",
       "      <td>0.363787</td>\n",
       "      <td>0.090794</td>\n",
       "      <td>...</td>\n",
       "      <td>0.251412</td>\n",
       "      <td>-0.018307</td>\n",
       "      <td>0.277838</td>\n",
       "      <td>-0.110474</td>\n",
       "      <td>0.066928</td>\n",
       "      <td>0.128539</td>\n",
       "      <td>-0.189115</td>\n",
       "      <td>0.133558</td>\n",
       "      <td>-0.021053</td>\n",
       "      <td>0</td>\n",
       "    </tr>\n",
       "    <tr>\n",
       "      <th>1</th>\n",
       "      <td>1.191857</td>\n",
       "      <td>0.266151</td>\n",
       "      <td>0.166480</td>\n",
       "      <td>0.448154</td>\n",
       "      <td>0.060018</td>\n",
       "      <td>-0.082361</td>\n",
       "      <td>-0.078803</td>\n",
       "      <td>0.085102</td>\n",
       "      <td>-0.255425</td>\n",
       "      <td>-0.166974</td>\n",
       "      <td>...</td>\n",
       "      <td>-0.069083</td>\n",
       "      <td>-0.225775</td>\n",
       "      <td>-0.638672</td>\n",
       "      <td>0.101288</td>\n",
       "      <td>-0.339846</td>\n",
       "      <td>0.167170</td>\n",
       "      <td>0.125895</td>\n",
       "      <td>-0.008983</td>\n",
       "      <td>0.014724</td>\n",
       "      <td>0</td>\n",
       "    </tr>\n",
       "    <tr>\n",
       "      <th>2</th>\n",
       "      <td>-1.358354</td>\n",
       "      <td>-1.340163</td>\n",
       "      <td>1.773209</td>\n",
       "      <td>0.379780</td>\n",
       "      <td>-0.503198</td>\n",
       "      <td>1.800499</td>\n",
       "      <td>0.791461</td>\n",
       "      <td>0.247676</td>\n",
       "      <td>-1.514654</td>\n",
       "      <td>0.207643</td>\n",
       "      <td>...</td>\n",
       "      <td>0.524980</td>\n",
       "      <td>0.247998</td>\n",
       "      <td>0.771679</td>\n",
       "      <td>0.909412</td>\n",
       "      <td>-0.689281</td>\n",
       "      <td>-0.327642</td>\n",
       "      <td>-0.139097</td>\n",
       "      <td>-0.055353</td>\n",
       "      <td>-0.059752</td>\n",
       "      <td>0</td>\n",
       "    </tr>\n",
       "    <tr>\n",
       "      <th>3</th>\n",
       "      <td>-0.966272</td>\n",
       "      <td>-0.185226</td>\n",
       "      <td>1.792993</td>\n",
       "      <td>-0.863291</td>\n",
       "      <td>-0.010309</td>\n",
       "      <td>1.247203</td>\n",
       "      <td>0.237609</td>\n",
       "      <td>0.377436</td>\n",
       "      <td>-1.387024</td>\n",
       "      <td>-0.054952</td>\n",
       "      <td>...</td>\n",
       "      <td>-0.208038</td>\n",
       "      <td>-0.108300</td>\n",
       "      <td>0.005274</td>\n",
       "      <td>-0.190321</td>\n",
       "      <td>-1.175575</td>\n",
       "      <td>0.647376</td>\n",
       "      <td>-0.221929</td>\n",
       "      <td>0.062723</td>\n",
       "      <td>0.061458</td>\n",
       "      <td>0</td>\n",
       "    </tr>\n",
       "    <tr>\n",
       "      <th>4</th>\n",
       "      <td>-1.158233</td>\n",
       "      <td>0.877737</td>\n",
       "      <td>1.548718</td>\n",
       "      <td>0.403034</td>\n",
       "      <td>-0.407193</td>\n",
       "      <td>0.095921</td>\n",
       "      <td>0.592941</td>\n",
       "      <td>-0.270533</td>\n",
       "      <td>0.817739</td>\n",
       "      <td>0.753074</td>\n",
       "      <td>...</td>\n",
       "      <td>0.408542</td>\n",
       "      <td>-0.009431</td>\n",
       "      <td>0.798278</td>\n",
       "      <td>-0.137458</td>\n",
       "      <td>0.141267</td>\n",
       "      <td>-0.206010</td>\n",
       "      <td>0.502292</td>\n",
       "      <td>0.219422</td>\n",
       "      <td>0.215153</td>\n",
       "      <td>0</td>\n",
       "    </tr>\n",
       "  </tbody>\n",
       "</table>\n",
       "<p>5 rows × 29 columns</p>\n",
       "</div>"
      ],
      "text/plain": [
       "         V1        V2        V3        V4        V5        V6        V7  \\\n",
       "0 -1.359807 -0.072781  2.536347  1.378155 -0.338321  0.462388  0.239599   \n",
       "1  1.191857  0.266151  0.166480  0.448154  0.060018 -0.082361 -0.078803   \n",
       "2 -1.358354 -1.340163  1.773209  0.379780 -0.503198  1.800499  0.791461   \n",
       "3 -0.966272 -0.185226  1.792993 -0.863291 -0.010309  1.247203  0.237609   \n",
       "4 -1.158233  0.877737  1.548718  0.403034 -0.407193  0.095921  0.592941   \n",
       "\n",
       "         V8        V9       V10  ...       V20       V21       V22       V23  \\\n",
       "0  0.098698  0.363787  0.090794  ...  0.251412 -0.018307  0.277838 -0.110474   \n",
       "1  0.085102 -0.255425 -0.166974  ... -0.069083 -0.225775 -0.638672  0.101288   \n",
       "2  0.247676 -1.514654  0.207643  ...  0.524980  0.247998  0.771679  0.909412   \n",
       "3  0.377436 -1.387024 -0.054952  ... -0.208038 -0.108300  0.005274 -0.190321   \n",
       "4 -0.270533  0.817739  0.753074  ...  0.408542 -0.009431  0.798278 -0.137458   \n",
       "\n",
       "        V24       V25       V26       V27       V28  Class  \n",
       "0  0.066928  0.128539 -0.189115  0.133558 -0.021053      0  \n",
       "1 -0.339846  0.167170  0.125895 -0.008983  0.014724      0  \n",
       "2 -0.689281 -0.327642 -0.139097 -0.055353 -0.059752      0  \n",
       "3 -1.175575  0.647376 -0.221929  0.062723  0.061458      0  \n",
       "4  0.141267 -0.206010  0.502292  0.219422  0.215153      0  \n",
       "\n",
       "[5 rows x 29 columns]"
      ]
     },
     "execution_count": 203,
     "metadata": {},
     "output_type": "execute_result"
    }
   ],
   "source": [
    "train = pd.read_csv(\"train.csv\")\n",
    "test = pd.read_csv(\"test.csv\")\n",
    "\n",
    "train.head()"
   ]
  },
  {
   "cell_type": "code",
   "execution_count": 204,
   "metadata": {},
   "outputs": [
    {
     "name": "stdout",
     "output_type": "stream",
     "text": [
      "(142404, 29) (142403, 29)\n"
     ]
    }
   ],
   "source": [
    "print(train.shape, test.shape)"
   ]
  },
  {
   "cell_type": "code",
   "execution_count": 205,
   "metadata": {},
   "outputs": [],
   "source": [
    "y_train = train['Class']\n",
    "X_train = train.drop('Class', axis=1)\n",
    "\n",
    "y_test = test['Class']\n",
    "X_test = test.drop('Class', axis=1)"
   ]
  },
  {
   "attachments": {},
   "cell_type": "markdown",
   "metadata": {},
   "source": [
    "## Questão 1 (valor 2 pontos)\n",
    "- a) Baseado na base de dados fornecida, qual das duas métricas de avaliação\n",
    "deve ser usada para medir os resultados dos modelos: Acurácia ou AUC?\n",
    "\n",
    "- b) Na base fornecida, qual seria o resultado esperado de: um modelo aleatório,\n",
    "um modelo que diz que tudo é fraude e um modelo que diz que nada é\n",
    "fraude, para cada uma das duas métricas (Acurácia e AUC)? Discuta os\n",
    "resultados."
   ]
  },
  {
   "cell_type": "code",
   "execution_count": 206,
   "metadata": {},
   "outputs": [
    {
     "name": "stdout",
     "output_type": "stream",
     "text": [
      "Distribuicao das classes: \n",
      "[0]: 142135 \t-> 99.81%\n",
      "[1]: 269 \t-> 0.19%\n"
     ]
    }
   ],
   "source": [
    "values, distr = np.unique(y_train, return_counts=True)\n",
    "print(\"Distribuicao das classes: \")\n",
    "print(f\"[{values[0]}]: {distr[0]} \\t-> {distr[0] / np.sum(distr) * 100:.2f}%\")\n",
    "print(f\"[{values[1]}]: {distr[1]} \\t-> {distr[1] / np.sum(distr) * 100:.2f}%\")"
   ]
  },
  {
   "attachments": {},
   "cell_type": "markdown",
   "metadata": {},
   "source": [
    "Como a base de dados fornecida é completamente desproporcional, a metrica ideal é a AUC. Se fossemos considerar a acurácia, seria possivel admitir que todos resultados sendo da classe ['0'] que o modelo teria uma acurácia de 0.998, aparentando ser uma ótima pontuação, mas não encontra nenhum resultado da classe ['1'] que é o mais importante a se detectar no nosso caso, por se tratar de fraudes.\n",
    "\n",
    "Ja com o modelo da AUC, leva em consideração a proporção de falsos positivos e verdadeiros positivos. Por exemplo se um modelo admitir que tudo seria de um classe e errasse todas demais, teriamos uma AUC de 0.5, que é o pior dos casos e independentemente da taxa de sucesso."
   ]
  },
  {
   "cell_type": "code",
   "execution_count": 207,
   "metadata": {},
   "outputs": [],
   "source": [
    "from sklearn import datasets, metrics\n",
    "\n",
    "fpr, tpr, thresholds = metrics.roc_curve(y_train, y_train)"
   ]
  },
  {
   "cell_type": "code",
   "execution_count": 208,
   "metadata": {},
   "outputs": [],
   "source": [
    "from sklearn.metrics import roc_auc_score\n",
    "import matplotlib.pyplot as plt\n",
    "\n",
    "def roc_curve(y_real, y_predict):\n",
    "    fpr, tpr, _ = metrics.roc_curve(y_real, y_predict)\n",
    "    auc_score = roc_auc_score(y_real, y_predict)\n",
    "\n",
    "    plt.plot(fpr, tpr, label=f\"Pontuação AUC: {auc_score}\")\n",
    "    plt.xlabel(\"Taxa de falso positivo\")\n",
    "    plt.ylabel(\"Taxa de verdadeiro positivo\")\n",
    "    plt.legend()\n",
    "\n",
    "    "
   ]
  },
  {
   "cell_type": "code",
   "execution_count": 209,
   "metadata": {},
   "outputs": [
    {
     "data": {
      "image/png": "[encoded data removed]",
      "text/plain": [
       "<Figure size 640x480 with 1 Axes>"
      ]
     },
     "metadata": {},
     "output_type": "display_data"
    }
   ],
   "source": [
    "roc_curve(y_train, np.ones(len(y_train)))"
   ]
  },
  {
   "attachments": {},
   "cell_type": "markdown",
   "metadata": {},
   "source": [
    "## Questão 2 (valor 2 pontos) - A total corretude dessa questão depende da primeira questão\n",
    "\n",
    "Usando a classe MLPClassifier do scikit-learn crie a seguinte arquitetura de rede\n",
    "neural:\n",
    "- 5 camadas escondidas, com 20 neurônios em cada camada;\n",
    "- Função de ativação ReLU para todos os neurônios das camadas escondidas;\n",
    "- random_state = 42 e\n",
    "- Os demais parâmetros com o valor padrão da classe MLPClassifier.\n",
    "\n",
    "Em seguida, treine um modelo para cada um dos valores de alpha (taxa de\n",
    "regularização L2): [0.0, 0.01, 0.1, 1, 10] e compute o resultado deles na\n",
    "base de teste (usando a métrica escolhida na questão anterior).\n",
    "\n",
    "Com base nesses resultados, comente sobre o efeito da taxa de regularização no\n",
    "resultado do modelo."
   ]
  },
  {
   "cell_type": "code",
   "execution_count": 210,
   "metadata": {},
   "outputs": [],
   "source": [
    "from sklearn.neural_network import MLPClassifier\n",
    "\n",
    "classifiers = []\n",
    "alphas = [0.0, 0.01, 0.1, 1.0, 10.0]\n",
    "\n",
    "for alpha in alphas:\n",
    "\n",
    "    nn = MLPClassifier(\n",
    "        hidden_layer_sizes=(20,20,20,20,20,),\n",
    "        random_state=42,\n",
    "        alpha=alpha\n",
    "    )\n",
    "    classifiers.append(nn.fit(X_train, y_train))\n",
    "\n"
   ]
  },
  {
   "cell_type": "code",
   "execution_count": 211,
   "metadata": {},
   "outputs": [
    {
     "data": {
      "text/plain": [
       "<matplotlib.legend.Legend at 0x1ededae2190>"
      ]
     },
     "execution_count": 211,
     "metadata": {},
     "output_type": "execute_result"
    },
    {
     "data": {
      "image/png": "[encoded data removed]",
      "text/plain": [
       "<Figure size 640x480 with 1 Axes>"
      ]
     },
     "metadata": {},
     "output_type": "display_data"
    }
   ],
   "source": [
    "legend = []\n",
    "for clf in classifiers:\n",
    "    y_predict = (clf.predict(X_test))\n",
    "    fpr, tpr, _ = metrics.roc_curve(y_test, y_predict)\n",
    "    auc_score = roc_auc_score(y_test, y_predict)\n",
    "    legend.append(f\"alpha = {clf.alpha} -- AUC: {auc_score:.3f}\")\n",
    "    plt.plot(fpr, tpr, \"--\")\n",
    "    plt.xlabel(\"Taxa de falso positivo\")\n",
    "    plt.ylabel(\"Taxa de verdadeiro positivo\")\n",
    "plt.legend(legend)"
   ]
  },
  {
   "attachments": {},
   "cell_type": "markdown",
   "metadata": {},
   "source": [
    "Os parametros de alpha servem para penalizar os pesos das variaveis, prevenindo que ocorra um overfitting. Porém no nosso caso não é necessario este tratamento, logo os valores de alpha mais proximos de zero [0, 0.01 e 0.1] tem os melhores valores, alem de estarem bem proximos.\n",
    "Em contrapartida os valores de alpha=[1 e 10] tiveram um efeito contrario do proposito do parametro, ocorreu um underfitting por conta das variaveis perderem peso de importancia. \n",
    "\n",
    "Com isto no caso de alpha=10 o modelo teve o pior resultado possivel (0.5), mesmo caso de admitir que todos resultados sejam de apenas uma classe."
   ]
  },
  {
   "attachments": {},
   "cell_type": "markdown",
   "metadata": {},
   "source": [
    "## Questão 3 (valor 2 pontos) - A total corretude dessa questão depende da primeira questão\n",
    "Compare os seguintes modelos:\n",
    "1. Rede neural (MLPClassifier):\n",
    "    - a) Sem camadas intermediárias;\n",
    "    - b) Com uma camada intermediária de 10 neurônios e\n",
    "    - c) Com duas camadas intermediárias, com 5 neurônios cada.\n",
    "\n",
    "---\n",
    "2. K-NN (KNeighborsClassifier)\n",
    "    - a) Com k = 3;\n",
    "    - b) Com k = 5 e\n",
    "    - c) Com k = 7.\n",
    "\n",
    "Todos os demais hiperparâmetros devem ser deixados com os valores padrão do\n",
    "scikit-learn. Essa comparação deve ser feita usando 3-fold cross-validation nos\n",
    "dados de treinamento. Por fim, o valor da métrica de sucesso na base de teste só\n",
    "deve ser computado para o melhor modelo de rede neural e o melhor K-NN. Tal\n",
    "protocolo deve ser seguido para que tenhamos uma estimativa mais robusta dos\n",
    "resultados dos modelos.\n",
    "Com base nesses resultados, responda:\n",
    "\n",
    "a) Qual técnica obteve o melhor resultado na base de teste?\n",
    "\n",
    "b) Qual técnica demora mais para gerar as previsões nos dados de teste?\n",
    "Dicas:\n",
    "1. Use a classe GridSearchCV do scikit-learn para comparar os\n",
    "hiperparâmetros e\n",
    "2. Use o magic command ```%%time``` do Jupyter Notebook para medir os tempos."
   ]
  },
  {
   "cell_type": "code",
   "execution_count": 212,
   "metadata": {},
   "outputs": [
    {
     "data": {
      "text/html": [
       "<style>#sk-container-id-6 {color: black;background-color: white;}#sk-container-id-6 pre{padding: 0;}#sk-container-id-6 div.sk-toggleable {background-color: white;}#sk-container-id-6 label.sk-toggleable__label {cursor: pointer;display: block;width: 100%;margin-bottom: 0;padding: 0.3em;box-sizing: border-box;text-align: center;}#sk-container-id-6 label.sk-toggleable__label-arrow:before {content: \"▸\";float: left;margin-right: 0.25em;color: #696969;}#sk-container-id-6 label.sk-toggleable__label-arrow:hover:before {color: black;}#sk-container-id-6 div.sk-estimator:hover label.sk-toggleable__label-arrow:before {color: black;}#sk-container-id-6 div.sk-toggleable__content {max-height: 0;max-width: 0;overflow: hidden;text-align: left;background-color: #f0f8ff;}#sk-container-id-6 div.sk-toggleable__content pre {margin: 0.2em;color: black;border-radius: 0.25em;background-color: #f0f8ff;}#sk-container-id-6 input.sk-toggleable__control:checked~div.sk-toggleable__content {max-height: 200px;max-width: 100%;overflow: auto;}#sk-container-id-6 input.sk-toggleable__control:checked~label.sk-toggleable__label-arrow:before {content: \"▾\";}#sk-container-id-6 div.sk-estimator input.sk-toggleable__control:checked~label.sk-toggleable__label {background-color: #d4ebff;}#sk-container-id-6 div.sk-label input.sk-toggleable__control:checked~label.sk-toggleable__label {background-color: #d4ebff;}#sk-container-id-6 input.sk-hidden--visually {border: 0;clip: rect(1px 1px 1px 1px);clip: rect(1px, 1px, 1px, 1px);height: 1px;margin: -1px;overflow: hidden;padding: 0;position: absolute;width: 1px;}#sk-container-id-6 div.sk-estimator {font-family: monospace;background-color: #f0f8ff;border: 1px dotted black;border-radius: 0.25em;box-sizing: border-box;margin-bottom: 0.5em;}#sk-container-id-6 div.sk-estimator:hover {background-color: #d4ebff;}#sk-container-id-6 div.sk-parallel-item::after {content: \"\";width: 100%;border-bottom: 1px solid gray;flex-grow: 1;}#sk-container-id-6 div.sk-label:hover label.sk-toggleable__label {background-color: #d4ebff;}#sk-container-id-6 div.sk-serial::before {content: \"\";position: absolute;border-left: 1px solid gray;box-sizing: border-box;top: 0;bottom: 0;left: 50%;z-index: 0;}#sk-container-id-6 div.sk-serial {display: flex;flex-direction: column;align-items: center;background-color: white;padding-right: 0.2em;padding-left: 0.2em;position: relative;}#sk-container-id-6 div.sk-item {position: relative;z-index: 1;}#sk-container-id-6 div.sk-parallel {display: flex;align-items: stretch;justify-content: center;background-color: white;position: relative;}#sk-container-id-6 div.sk-item::before, #sk-container-id-6 div.sk-parallel-item::before {content: \"\";position: absolute;border-left: 1px solid gray;box-sizing: border-box;top: 0;bottom: 0;left: 50%;z-index: -1;}#sk-container-id-6 div.sk-parallel-item {display: flex;flex-direction: column;z-index: 1;position: relative;background-color: white;}#sk-container-id-6 div.sk-parallel-item:first-child::after {align-self: flex-end;width: 50%;}#sk-container-id-6 div.sk-parallel-item:last-child::after {align-self: flex-start;width: 50%;}#sk-container-id-6 div.sk-parallel-item:only-child::after {width: 0;}#sk-container-id-6 div.sk-dashed-wrapped {border: 1px dashed gray;margin: 0 0.4em 0.5em 0.4em;box-sizing: border-box;padding-bottom: 0.4em;background-color: white;}#sk-container-id-6 div.sk-label label {font-family: monospace;font-weight: bold;display: inline-block;line-height: 1.2em;}#sk-container-id-6 div.sk-label-container {text-align: center;}#sk-container-id-6 div.sk-container {/* jupyter's `normalize.less` sets `[hidden] { display: none; }` but bootstrap.min.css set `[hidden] { display: none !important; }` so we also need the `!important` here to be able to override the default hidden behavior on the sphinx rendered scikit-learn.org. See: https://github.com/scikit-learn/scikit-learn/issues/21755 */display: inline-block !important;position: relative;}#sk-container-id-6 div.sk-text-repr-fallback {display: none;}</style><div id=\"sk-container-id-6\" class=\"sk-top-container\"><div class=\"sk-text-repr-fallback\"><pre>GridSearchCV(cv=3, estimator=MLPClassifier(),\n",
       "             param_grid={&#x27;hidden_layer_sizes&#x27;: [[], [10], [5, 5]]},\n",
       "             scoring=&#x27;roc_auc&#x27;)</pre><b>In a Jupyter environment, please rerun this cell to show the HTML representation or trust the notebook. <br />On GitHub, the HTML representation is unable to render, please try loading this page with nbviewer.org.</b></div><div class=\"sk-container\" hidden><div class=\"sk-item sk-dashed-wrapped\"><div class=\"sk-label-container\"><div class=\"sk-label sk-toggleable\"><input class=\"sk-toggleable__control sk-hidden--visually\" id=\"sk-estimator-id-14\" type=\"checkbox\" ><label for=\"sk-estimator-id-14\" class=\"sk-toggleable__label sk-toggleable__label-arrow\">GridSearchCV</label><div class=\"sk-toggleable__content\"><pre>GridSearchCV(cv=3, estimator=MLPClassifier(),\n",
       "             param_grid={&#x27;hidden_layer_sizes&#x27;: [[], [10], [5, 5]]},\n",
       "             scoring=&#x27;roc_auc&#x27;)</pre></div></div></div><div class=\"sk-parallel\"><div class=\"sk-parallel-item\"><div class=\"sk-item\"><div class=\"sk-label-container\"><div class=\"sk-label sk-toggleable\"><input class=\"sk-toggleable__control sk-hidden--visually\" id=\"sk-estimator-id-15\" type=\"checkbox\" ><label for=\"sk-estimator-id-15\" class=\"sk-toggleable__label sk-toggleable__label-arrow\">estimator: MLPClassifier</label><div class=\"sk-toggleable__content\"><pre>MLPClassifier()</pre></div></div></div><div class=\"sk-serial\"><div class=\"sk-item\"><div class=\"sk-estimator sk-toggleable\"><input class=\"sk-toggleable__control sk-hidden--visually\" id=\"sk-estimator-id-16\" type=\"checkbox\" ><label for=\"sk-estimator-id-16\" class=\"sk-toggleable__label sk-toggleable__label-arrow\">MLPClassifier</label><div class=\"sk-toggleable__content\"><pre>MLPClassifier()</pre></div></div></div></div></div></div></div></div></div></div>"
      ],
      "text/plain": [
       "GridSearchCV(cv=3, estimator=MLPClassifier(),\n",
       "             param_grid={'hidden_layer_sizes': [[], [10], [5, 5]]},\n",
       "             scoring='roc_auc')"
      ]
     },
     "execution_count": 212,
     "metadata": {},
     "output_type": "execute_result"
    }
   ],
   "source": [
    "from sklearn.neighbors import KNeighborsClassifier\n",
    "from sklearn.model_selection import GridSearchCV\n",
    "\n",
    "knn_params = {\n",
    "    \"n_neighbors\": [3,5,7]\n",
    "    }\n",
    "\n",
    "mlp_params = {\n",
    "    \"hidden_layer_sizes\": [[], [10], [5,5]]\n",
    "}\n",
    "\n",
    "KNN = KNeighborsClassifier()\n",
    "MLP = MLPClassifier()\n",
    "\n",
    "KNN_grid = GridSearchCV(KNN, knn_params, cv=3, scoring='roc_auc')\n",
    "KNN_grid.fit(X_train, y_train)\n",
    "\n",
    "MLP_grid = GridSearchCV(MLP, mlp_params, cv=3, scoring='roc_auc')\n",
    "MLP_grid.fit(X_train, y_train)"
   ]
  },
  {
   "cell_type": "code",
   "execution_count": 213,
   "metadata": {},
   "outputs": [
    {
     "name": "stdout",
     "output_type": "stream",
     "text": [
      "CPU times: total: 6min 32s\n",
      "Wall time: 40.8 s\n"
     ]
    }
   ],
   "source": [
    "%%time\n",
    "y_knn = KNN_grid.predict(X_test)"
   ]
  },
  {
   "cell_type": "code",
   "execution_count": 214,
   "metadata": {},
   "outputs": [
    {
     "name": "stdout",
     "output_type": "stream",
     "text": [
      "CPU times: total: 31.2 ms\n",
      "Wall time: 36 ms\n"
     ]
    }
   ],
   "source": [
    "%%time\n",
    "y_mlp = MLP_grid.predict(X_test)"
   ]
  },
  {
   "cell_type": "code",
   "execution_count": 215,
   "metadata": {},
   "outputs": [
    {
     "data": {
      "text/plain": [
       "<matplotlib.legend.Legend at 0x1edecf673d0>"
      ]
     },
     "execution_count": 215,
     "metadata": {},
     "output_type": "execute_result"
    },
    {
     "data": {
      "image/png": "[encoded data removed]",
      "text/plain": [
       "<Figure size 640x480 with 1 Axes>"
      ]
     },
     "metadata": {},
     "output_type": "display_data"
    }
   ],
   "source": [
    "legend = []\n",
    "\n",
    "plt.xlabel(\"Taxa de falso positivo\")\n",
    "plt.ylabel(\"Taxa de verdadeiro positivo\")\n",
    "\n",
    "fpr_knn, tpr_knn, _ = metrics.roc_curve(y_test, y_knn)\n",
    "auc_score_knn = roc_auc_score(y_test, y_knn)\n",
    "plt.plot(fpr_knn, tpr_knn, \"--\")\n",
    "\n",
    "fpr_mlp, tpr_mlp, _ = metrics.roc_curve(y_test, y_mlp)\n",
    "auc_score_mlp = roc_auc_score(y_test, y_mlp)\n",
    "plt.plot(fpr_mlp, tpr_mlp, \"--\")\n",
    "    \n",
    "plt.legend([f'KNN AUC = {auc_score_knn:.2}', f'MLP AUC = {auc_score_mlp:.2}'])"
   ]
  },
  {
   "cell_type": "code",
   "execution_count": 216,
   "metadata": {},
   "outputs": [
    {
     "data": {
      "text/html": [
       "<div>\n",
       "<style scoped>\n",
       "    .dataframe tbody tr th:only-of-type {\n",
       "        vertical-align: middle;\n",
       "    }\n",
       "\n",
       "    .dataframe tbody tr th {\n",
       "        vertical-align: top;\n",
       "    }\n",
       "\n",
       "    .dataframe thead th {\n",
       "        text-align: right;\n",
       "    }\n",
       "</style>\n",
       "<table border=\"1\" class=\"dataframe\">\n",
       "  <thead>\n",
       "    <tr style=\"text-align: right;\">\n",
       "      <th></th>\n",
       "      <th>mean_score_time</th>\n",
       "      <th>param_hidden_layer_sizes</th>\n",
       "      <th>mean_test_score</th>\n",
       "      <th>rank_test_score</th>\n",
       "    </tr>\n",
       "  </thead>\n",
       "  <tbody>\n",
       "    <tr>\n",
       "      <th>2</th>\n",
       "      <td>0.023670</td>\n",
       "      <td>[5, 5]</td>\n",
       "      <td>0.949498</td>\n",
       "      <td>1</td>\n",
       "    </tr>\n",
       "    <tr>\n",
       "      <th>0</th>\n",
       "      <td>0.013999</td>\n",
       "      <td>[]</td>\n",
       "      <td>0.941031</td>\n",
       "      <td>2</td>\n",
       "    </tr>\n",
       "    <tr>\n",
       "      <th>1</th>\n",
       "      <td>0.016668</td>\n",
       "      <td>[10]</td>\n",
       "      <td>0.938808</td>\n",
       "      <td>3</td>\n",
       "    </tr>\n",
       "  </tbody>\n",
       "</table>\n",
       "</div>"
      ],
      "text/plain": [
       "   mean_score_time param_hidden_layer_sizes  mean_test_score  rank_test_score\n",
       "2         0.023670                   [5, 5]         0.949498                1\n",
       "0         0.013999                       []         0.941031                2\n",
       "1         0.016668                     [10]         0.938808                3"
      ]
     },
     "execution_count": 216,
     "metadata": {},
     "output_type": "execute_result"
    }
   ],
   "source": [
    "MLP_results = pd.DataFrame(MLP_grid.cv_results_)\n",
    "MLP_results = MLP_results[['mean_score_time', 'param_hidden_layer_sizes', 'mean_test_score', 'rank_test_score']]\n",
    "MLP_results.sort_values('rank_test_score')"
   ]
  },
  {
   "cell_type": "code",
   "execution_count": 217,
   "metadata": {},
   "outputs": [
    {
     "data": {
      "text/html": [
       "<div>\n",
       "<style scoped>\n",
       "    .dataframe tbody tr th:only-of-type {\n",
       "        vertical-align: middle;\n",
       "    }\n",
       "\n",
       "    .dataframe tbody tr th {\n",
       "        vertical-align: top;\n",
       "    }\n",
       "\n",
       "    .dataframe thead th {\n",
       "        text-align: right;\n",
       "    }\n",
       "</style>\n",
       "<table border=\"1\" class=\"dataframe\">\n",
       "  <thead>\n",
       "    <tr style=\"text-align: right;\">\n",
       "      <th></th>\n",
       "      <th>mean_score_time</th>\n",
       "      <th>param_n_neighbors</th>\n",
       "      <th>mean_test_score</th>\n",
       "      <th>rank_test_score</th>\n",
       "    </tr>\n",
       "  </thead>\n",
       "  <tbody>\n",
       "    <tr>\n",
       "      <th>2</th>\n",
       "      <td>8.257042</td>\n",
       "      <td>7</td>\n",
       "      <td>0.910671</td>\n",
       "      <td>1</td>\n",
       "    </tr>\n",
       "    <tr>\n",
       "      <th>1</th>\n",
       "      <td>8.197379</td>\n",
       "      <td>5</td>\n",
       "      <td>0.892187</td>\n",
       "      <td>2</td>\n",
       "    </tr>\n",
       "    <tr>\n",
       "      <th>0</th>\n",
       "      <td>8.288020</td>\n",
       "      <td>3</td>\n",
       "      <td>0.888509</td>\n",
       "      <td>3</td>\n",
       "    </tr>\n",
       "  </tbody>\n",
       "</table>\n",
       "</div>"
      ],
      "text/plain": [
       "   mean_score_time param_n_neighbors  mean_test_score  rank_test_score\n",
       "2         8.257042                 7         0.910671                1\n",
       "1         8.197379                 5         0.892187                2\n",
       "0         8.288020                 3         0.888509                3"
      ]
     },
     "execution_count": 217,
     "metadata": {},
     "output_type": "execute_result"
    }
   ],
   "source": [
    "KNN_results = pd.DataFrame(KNN_grid.cv_results_)\n",
    "KNN_results = KNN_results[['mean_score_time', 'param_n_neighbors', 'mean_test_score', 'rank_test_score']]\n",
    "KNN_results.sort_values('rank_test_score')"
   ]
  },
  {
   "attachments": {},
   "cell_type": "markdown",
   "metadata": {},
   "source": [
    "No método do KNN o melhor parametro é K = 7\n",
    "No método da rede neural, o melhor foi 2 camadas com 5 neuronios casa.\n",
    "\n",
    "\n",
    "A rede neural superior tanto em pontuação quanto em tempo."
   ]
  },
  {
   "attachments": {},
   "cell_type": "markdown",
   "metadata": {},
   "source": [
    "## Questão 4 (valor 2 pontos)\n",
    "Usando o melhor modelo obtido na questão anterior, calcule o lucro que tal\n",
    "modelo traria no seguinte cenário:\n",
    "\n",
    "- As top-1% transações com maior chance de fraude (de acordo com os scores\n",
    "do modelo) seriam impedidas de acontecer;\n",
    "- Cada fraude evitada em média evita um prejuízo (gera um lucro) de R$ 100 e\n",
    "- Cada não-fraude bloqueada gera em média um prejuízo de 2 reais.\n",
    "Comente os resultados.\n"
   ]
  },
  {
   "attachments": {},
   "cell_type": "markdown",
   "metadata": {},
   "source": [
    "Para fazer isto, primeiro pegamos a quantidade total de transações do dataset de test. Com isto é possivel determinar a quantidade K de 1% destas transações.\n",
    "\n",
    "Aplicamos o modelo no array X_test para gerar y_prob que é um array de probabilidades para ser fraude ou não. Ordenamos y_prob para quanto acessarmos o indice K, será possivel determinar a probabilidade que sera o corte, ou seja, acima dela todas serão impedidas e todas abaixo serão permitidas."
   ]
  },
  {
   "cell_type": "code",
   "execution_count": 218,
   "metadata": {},
   "outputs": [],
   "source": [
    "total = len(X_test)\n",
    "selected = int(total*0.01)"
   ]
  },
  {
   "cell_type": "code",
   "execution_count": 219,
   "metadata": {},
   "outputs": [
    {
     "data": {
      "text/plain": [
       "<sklearn.metrics._plot.confusion_matrix.ConfusionMatrixDisplay at 0x1ede8c84350>"
      ]
     },
     "execution_count": 219,
     "metadata": {},
     "output_type": "execute_result"
    },
    {
     "data": {
      "image/png": "[encoded data removed]",
      "text/plain": [
       "<Figure size 640x480 with 2 Axes>"
      ]
     },
     "metadata": {},
     "output_type": "display_data"
    }
   ],
   "source": [
    "from sklearn.metrics import ConfusionMatrixDisplay\n",
    "\n",
    "y_prob = MLP_grid.predict_proba(X_test)[:, 1]\n",
    "y_prob_s = sorted(y_prob, reverse=True)\n",
    "\n",
    "corte = y_prob_s[selected]\n",
    "y_bin = np.int64(y_prob > corte)\n",
    "\n",
    "ConfusionMatrixDisplay.from_predictions(\n",
    "    y_test,\n",
    "    y_bin,\n",
    ")"
   ]
  },
  {
   "cell_type": "code",
   "execution_count": 220,
   "metadata": {},
   "outputs": [
    {
     "name": "stdout",
     "output_type": "stream",
     "text": [
      "Quantidade de fraudes impedidas: 187\n",
      "Quantidade de transacoes normais que foram bloqueadas: 1237\n",
      "\n",
      "Lucro total: R$16226.00\n"
     ]
    }
   ],
   "source": [
    "nao_fraudes_bloqueadas = np.count_nonzero(np.logical_and(y_bin==1, y_test==0))\n",
    "fraudes_impedidas = np.count_nonzero(np.logical_and(y_bin==1, y_test==1))\n",
    "\n",
    "lucro = 100 * fraudes_impedidas - 2 * nao_fraudes_bloqueadas\n",
    "\n",
    "print(f\"Quantidade de fraudes impedidas: {fraudes_impedidas}\")\n",
    "print(f\"Quantidade de transacoes normais que foram bloqueadas: {nao_fraudes_bloqueadas}\\n\")\n",
    "\n",
    "print(f\"Lucro total: R${lucro}.00\")\n"
   ]
  },
  {
   "attachments": {},
   "cell_type": "markdown",
   "metadata": {},
   "source": [
    "## Questão 5 (valor 2 pontos)\n",
    "\n",
    "Use uma rede neural sem camadas intermediárias e com um neurônio de saída\n",
    "para encontrar variáveis não importantes para o problema estudado. Indique\n",
    "porque tais variáveis não são importantes.\n",
    "\n",
    "Dica: use a classe SGDClassifier(loss='log', random_state=42) para criar\n",
    "uma rede com um só neurônio de saída que usa a função de ativação sigmoid.\n",
    "Modifique os outros hiperparâmetros conforme necessário."
   ]
  },
  {
   "attachments": {},
   "cell_type": "markdown",
   "metadata": {},
   "source": [
    "Uma rede neural sem camadas intermediarias dependem dos dados de input e do ultimo neuronio (que será o output), da seguinte format\n",
    "\n",
    "\n",
    "$$sigmoid(\\sum^n_{i=0}I_i * W_i + B)$$\n",
    "\n",
    "Sendo:\n",
    "n: Quantidade de inputs\n",
    "\n",
    "$I_i$: Input de indice $i$\n",
    "\n",
    "$W_i$: Peso relacionado ao $I_i$\n",
    "\n",
    "B: Bias, constante\n",
    "\n",
    "Essa função mostra que os valores de inputs tem sua importancia definida com base em um peso que é relacionado, de forma que quanto mais proximo de 0 é este peso, menor será sua importancia.\n",
    "Vale lembrar que é possivel terem pesos negativos, sendo assim para criar um rank de importancia, é preciso pegar os pesos em módulo."
   ]
  },
  {
   "cell_type": "code",
   "execution_count": 221,
   "metadata": {},
   "outputs": [
    {
     "data": {
      "text/html": [
       "<style>#sk-container-id-7 {color: black;background-color: white;}#sk-container-id-7 pre{padding: 0;}#sk-container-id-7 div.sk-toggleable {background-color: white;}#sk-container-id-7 label.sk-toggleable__label {cursor: pointer;display: block;width: 100%;margin-bottom: 0;padding: 0.3em;box-sizing: border-box;text-align: center;}#sk-container-id-7 label.sk-toggleable__label-arrow:before {content: \"▸\";float: left;margin-right: 0.25em;color: #696969;}#sk-container-id-7 label.sk-toggleable__label-arrow:hover:before {color: black;}#sk-container-id-7 div.sk-estimator:hover label.sk-toggleable__label-arrow:before {color: black;}#sk-container-id-7 div.sk-toggleable__content {max-height: 0;max-width: 0;overflow: hidden;text-align: left;background-color: #f0f8ff;}#sk-container-id-7 div.sk-toggleable__content pre {margin: 0.2em;color: black;border-radius: 0.25em;background-color: #f0f8ff;}#sk-container-id-7 input.sk-toggleable__control:checked~div.sk-toggleable__content {max-height: 200px;max-width: 100%;overflow: auto;}#sk-container-id-7 input.sk-toggleable__control:checked~label.sk-toggleable__label-arrow:before {content: \"▾\";}#sk-container-id-7 div.sk-estimator input.sk-toggleable__control:checked~label.sk-toggleable__label {background-color: #d4ebff;}#sk-container-id-7 div.sk-label input.sk-toggleable__control:checked~label.sk-toggleable__label {background-color: #d4ebff;}#sk-container-id-7 input.sk-hidden--visually {border: 0;clip: rect(1px 1px 1px 1px);clip: rect(1px, 1px, 1px, 1px);height: 1px;margin: -1px;overflow: hidden;padding: 0;position: absolute;width: 1px;}#sk-container-id-7 div.sk-estimator {font-family: monospace;background-color: #f0f8ff;border: 1px dotted black;border-radius: 0.25em;box-sizing: border-box;margin-bottom: 0.5em;}#sk-container-id-7 div.sk-estimator:hover {background-color: #d4ebff;}#sk-container-id-7 div.sk-parallel-item::after {content: \"\";width: 100%;border-bottom: 1px solid gray;flex-grow: 1;}#sk-container-id-7 div.sk-label:hover label.sk-toggleable__label {background-color: #d4ebff;}#sk-container-id-7 div.sk-serial::before {content: \"\";position: absolute;border-left: 1px solid gray;box-sizing: border-box;top: 0;bottom: 0;left: 50%;z-index: 0;}#sk-container-id-7 div.sk-serial {display: flex;flex-direction: column;align-items: center;background-color: white;padding-right: 0.2em;padding-left: 0.2em;position: relative;}#sk-container-id-7 div.sk-item {position: relative;z-index: 1;}#sk-container-id-7 div.sk-parallel {display: flex;align-items: stretch;justify-content: center;background-color: white;position: relative;}#sk-container-id-7 div.sk-item::before, #sk-container-id-7 div.sk-parallel-item::before {content: \"\";position: absolute;border-left: 1px solid gray;box-sizing: border-box;top: 0;bottom: 0;left: 50%;z-index: -1;}#sk-container-id-7 div.sk-parallel-item {display: flex;flex-direction: column;z-index: 1;position: relative;background-color: white;}#sk-container-id-7 div.sk-parallel-item:first-child::after {align-self: flex-end;width: 50%;}#sk-container-id-7 div.sk-parallel-item:last-child::after {align-self: flex-start;width: 50%;}#sk-container-id-7 div.sk-parallel-item:only-child::after {width: 0;}#sk-container-id-7 div.sk-dashed-wrapped {border: 1px dashed gray;margin: 0 0.4em 0.5em 0.4em;box-sizing: border-box;padding-bottom: 0.4em;background-color: white;}#sk-container-id-7 div.sk-label label {font-family: monospace;font-weight: bold;display: inline-block;line-height: 1.2em;}#sk-container-id-7 div.sk-label-container {text-align: center;}#sk-container-id-7 div.sk-container {/* jupyter's `normalize.less` sets `[hidden] { display: none; }` but bootstrap.min.css set `[hidden] { display: none !important; }` so we also need the `!important` here to be able to override the default hidden behavior on the sphinx rendered scikit-learn.org. See: https://github.com/scikit-learn/scikit-learn/issues/21755 */display: inline-block !important;position: relative;}#sk-container-id-7 div.sk-text-repr-fallback {display: none;}</style><div id=\"sk-container-id-7\" class=\"sk-top-container\"><div class=\"sk-text-repr-fallback\"><pre>SGDClassifier(random_state=42)</pre><b>In a Jupyter environment, please rerun this cell to show the HTML representation or trust the notebook. <br />On GitHub, the HTML representation is unable to render, please try loading this page with nbviewer.org.</b></div><div class=\"sk-container\" hidden><div class=\"sk-item\"><div class=\"sk-estimator sk-toggleable\"><input class=\"sk-toggleable__control sk-hidden--visually\" id=\"sk-estimator-id-17\" type=\"checkbox\" checked><label for=\"sk-estimator-id-17\" class=\"sk-toggleable__label sk-toggleable__label-arrow\">SGDClassifier</label><div class=\"sk-toggleable__content\"><pre>SGDClassifier(random_state=42)</pre></div></div></div></div></div>"
      ],
      "text/plain": [
       "SGDClassifier(random_state=42)"
      ]
     },
     "execution_count": 221,
     "metadata": {},
     "output_type": "execute_result"
    }
   ],
   "source": [
    "from sklearn.linear_model import SGDClassifier\n",
    "\n",
    "SGD = SGDClassifier(random_state=42)\n",
    "SGD.fit(X_train, y_train)\n"
   ]
  },
  {
   "attachments": {},
   "cell_type": "markdown",
   "metadata": {},
   "source": [
    "Checando quais variaveis são mais importante e fazendo um rank delas.\n",
    "\n",
    "Para isso pegamos os pesos do modelo treinado em SGD.coef_[0], que possui o mesmo shape e é ordenado conforme os inputs.\n",
    "\n",
    "em rank terá valores de 1 até n+1, de forma que os indices das variaveis recebam a ordem do rank adequada, de acordo com o valor do peso em modulo ordenado do maior para o menor.\n",
    "\n",
    "Ex.\n",
    "\n",
    "Variaveis   = [A1, A2, A3, A4]\n",
    "\n",
    "Pesos       = [20, 40, 10, 5]\n",
    "\n",
    "rank        = [2, 1, 3, 4]"
   ]
  },
  {
   "cell_type": "code",
   "execution_count": 222,
   "metadata": {},
   "outputs": [
    {
     "data": {
      "text/html": [
       "<div>\n",
       "<style scoped>\n",
       "    .dataframe tbody tr th:only-of-type {\n",
       "        vertical-align: middle;\n",
       "    }\n",
       "\n",
       "    .dataframe tbody tr th {\n",
       "        vertical-align: top;\n",
       "    }\n",
       "\n",
       "    .dataframe thead th {\n",
       "        text-align: right;\n",
       "    }\n",
       "</style>\n",
       "<table border=\"1\" class=\"dataframe\">\n",
       "  <thead>\n",
       "    <tr style=\"text-align: right;\">\n",
       "      <th></th>\n",
       "      <th>Pesos</th>\n",
       "      <th>Variaveis</th>\n",
       "      <th>Ranking</th>\n",
       "    </tr>\n",
       "  </thead>\n",
       "  <tbody>\n",
       "    <tr>\n",
       "      <th>13</th>\n",
       "      <td>-17.239786</td>\n",
       "      <td>V14</td>\n",
       "      <td>1</td>\n",
       "    </tr>\n",
       "    <tr>\n",
       "      <th>3</th>\n",
       "      <td>12.991462</td>\n",
       "      <td>V4</td>\n",
       "      <td>2</td>\n",
       "    </tr>\n",
       "    <tr>\n",
       "      <th>9</th>\n",
       "      <td>-7.195617</td>\n",
       "      <td>V10</td>\n",
       "      <td>3</td>\n",
       "    </tr>\n",
       "    <tr>\n",
       "      <th>11</th>\n",
       "      <td>-6.212125</td>\n",
       "      <td>V12</td>\n",
       "      <td>4</td>\n",
       "    </tr>\n",
       "    <tr>\n",
       "      <th>10</th>\n",
       "      <td>5.944628</td>\n",
       "      <td>V11</td>\n",
       "      <td>5</td>\n",
       "    </tr>\n",
       "    <tr>\n",
       "      <th>7</th>\n",
       "      <td>-4.338421</td>\n",
       "      <td>V8</td>\n",
       "      <td>6</td>\n",
       "    </tr>\n",
       "    <tr>\n",
       "      <th>12</th>\n",
       "      <td>-3.954303</td>\n",
       "      <td>V13</td>\n",
       "      <td>7</td>\n",
       "    </tr>\n",
       "    <tr>\n",
       "      <th>8</th>\n",
       "      <td>-3.811237</td>\n",
       "      <td>V9</td>\n",
       "      <td>8</td>\n",
       "    </tr>\n",
       "    <tr>\n",
       "      <th>0</th>\n",
       "      <td>-3.531226</td>\n",
       "      <td>V1</td>\n",
       "      <td>9</td>\n",
       "    </tr>\n",
       "    <tr>\n",
       "      <th>14</th>\n",
       "      <td>3.102167</td>\n",
       "      <td>V15</td>\n",
       "      <td>10</td>\n",
       "    </tr>\n",
       "    <tr>\n",
       "      <th>15</th>\n",
       "      <td>-1.817971</td>\n",
       "      <td>V16</td>\n",
       "      <td>11</td>\n",
       "    </tr>\n",
       "    <tr>\n",
       "      <th>1</th>\n",
       "      <td>1.536112</td>\n",
       "      <td>V2</td>\n",
       "      <td>12</td>\n",
       "    </tr>\n",
       "    <tr>\n",
       "      <th>6</th>\n",
       "      <td>1.507793</td>\n",
       "      <td>V7</td>\n",
       "      <td>13</td>\n",
       "    </tr>\n",
       "    <tr>\n",
       "      <th>20</th>\n",
       "      <td>1.356916</td>\n",
       "      <td>V21</td>\n",
       "      <td>14</td>\n",
       "    </tr>\n",
       "    <tr>\n",
       "      <th>2</th>\n",
       "      <td>1.143717</td>\n",
       "      <td>V3</td>\n",
       "      <td>15</td>\n",
       "    </tr>\n",
       "    <tr>\n",
       "      <th>26</th>\n",
       "      <td>-1.037198</td>\n",
       "      <td>V27</td>\n",
       "      <td>16</td>\n",
       "    </tr>\n",
       "    <tr>\n",
       "      <th>19</th>\n",
       "      <td>-1.010042</td>\n",
       "      <td>V20</td>\n",
       "      <td>17</td>\n",
       "    </tr>\n",
       "    <tr>\n",
       "      <th>5</th>\n",
       "      <td>-0.894169</td>\n",
       "      <td>V6</td>\n",
       "      <td>18</td>\n",
       "    </tr>\n",
       "    <tr>\n",
       "      <th>22</th>\n",
       "      <td>-0.866668</td>\n",
       "      <td>V23</td>\n",
       "      <td>19</td>\n",
       "    </tr>\n",
       "    <tr>\n",
       "      <th>18</th>\n",
       "      <td>-0.593229</td>\n",
       "      <td>V19</td>\n",
       "      <td>20</td>\n",
       "    </tr>\n",
       "    <tr>\n",
       "      <th>23</th>\n",
       "      <td>-0.590891</td>\n",
       "      <td>V24</td>\n",
       "      <td>21</td>\n",
       "    </tr>\n",
       "    <tr>\n",
       "      <th>16</th>\n",
       "      <td>-0.479904</td>\n",
       "      <td>V17</td>\n",
       "      <td>22</td>\n",
       "    </tr>\n",
       "    <tr>\n",
       "      <th>24</th>\n",
       "      <td>0.405077</td>\n",
       "      <td>V25</td>\n",
       "      <td>23</td>\n",
       "    </tr>\n",
       "    <tr>\n",
       "      <th>25</th>\n",
       "      <td>0.396254</td>\n",
       "      <td>V26</td>\n",
       "      <td>24</td>\n",
       "    </tr>\n",
       "    <tr>\n",
       "      <th>17</th>\n",
       "      <td>0.386535</td>\n",
       "      <td>V18</td>\n",
       "      <td>25</td>\n",
       "    </tr>\n",
       "    <tr>\n",
       "      <th>27</th>\n",
       "      <td>-0.311573</td>\n",
       "      <td>V28</td>\n",
       "      <td>26</td>\n",
       "    </tr>\n",
       "    <tr>\n",
       "      <th>21</th>\n",
       "      <td>0.309816</td>\n",
       "      <td>V22</td>\n",
       "      <td>27</td>\n",
       "    </tr>\n",
       "    <tr>\n",
       "      <th>4</th>\n",
       "      <td>-0.243795</td>\n",
       "      <td>V5</td>\n",
       "      <td>28</td>\n",
       "    </tr>\n",
       "  </tbody>\n",
       "</table>\n",
       "</div>"
      ],
      "text/plain": [
       "        Pesos Variaveis  Ranking\n",
       "13 -17.239786       V14        1\n",
       "3   12.991462        V4        2\n",
       "9   -7.195617       V10        3\n",
       "11  -6.212125       V12        4\n",
       "10   5.944628       V11        5\n",
       "7   -4.338421        V8        6\n",
       "12  -3.954303       V13        7\n",
       "8   -3.811237        V9        8\n",
       "0   -3.531226        V1        9\n",
       "14   3.102167       V15       10\n",
       "15  -1.817971       V16       11\n",
       "1    1.536112        V2       12\n",
       "6    1.507793        V7       13\n",
       "20   1.356916       V21       14\n",
       "2    1.143717        V3       15\n",
       "26  -1.037198       V27       16\n",
       "19  -1.010042       V20       17\n",
       "5   -0.894169        V6       18\n",
       "22  -0.866668       V23       19\n",
       "18  -0.593229       V19       20\n",
       "23  -0.590891       V24       21\n",
       "16  -0.479904       V17       22\n",
       "24   0.405077       V25       23\n",
       "25   0.396254       V26       24\n",
       "17   0.386535       V18       25\n",
       "27  -0.311573       V28       26\n",
       "21   0.309816       V22       27\n",
       "4   -0.243795        V5       28"
      ]
     },
     "execution_count": 222,
     "metadata": {},
     "output_type": "execute_result"
    }
   ],
   "source": [
    "pesos = SGD.coef_[0]\n",
    "\n",
    "rank = list(map(lambda x: sorted(np.abs(pesos), reverse=True).index(x) + 1, np.abs(pesos)))\n",
    "info = {\n",
    "    'Pesos': pesos,\n",
    "    'Variaveis': SGD.feature_names_in_,\n",
    "    'Ranking': rank\n",
    "}\n",
    "coef = pd.DataFrame(data=info).sort_values('Ranking')\n",
    "coef"
   ]
  }
 ],
 "metadata": {
  "kernelspec": {
   "display_name": "Python 3",
   "language": "python",
   "name": "python3"
  },
  "language_info": {
   "codemirror_mode": {
    "name": "ipython",
    "version": 3
   },
   "file_extension": ".py",
   "mimetype": "text/x-python",
   "name": "python",
   "nbconvert_exporter": "python",
   "pygments_lexer": "ipython3",
   "version": "3.11.1"
  },
  "orig_nbformat": 4
 },
 "nbformat": 4,
 "nbformat_minor": 2
}
