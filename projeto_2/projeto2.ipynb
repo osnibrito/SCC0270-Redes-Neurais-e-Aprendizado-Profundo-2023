{
  "cells": [
    {
      "cell_type": "markdown",
      "metadata": {
        "id": "mCDhiHtDS6Ek"
      },
      "source": [
        "# Questão 1 (valor 2 pontos)\n",
        "\n",
        "Você deve criar a seguinte CNN usando o Keras:"
      ]
    },
    {
      "cell_type": "markdown",
      "metadata": {
        "id": "328GmHftS6Em"
      },
      "source": [
        "|Input: 32x32x3|\n",
        "|---|\n",
        "|Conv2D: 16 neurônios (filters), kernels 3x3, ReLU|\n",
        "|MaxPooling2D: pool 2x2|\n",
        "|Conv2D: 16 neurônios (filters), kernels 3x3, ReLU|\n",
        "|Conv2D: 16 neurônios (filters), kernels 3x3, ReLU|\n",
        "|MaxPooling2D: pool 2x2|\n",
        "|Conv2D: 16 neurônios (filters), kernels 3x3, ReLU|\n",
        "|Conv2D: 16 neurônios (filters), kernels 3x3, ReLU|\n",
        "|MaxPooling2D: pool 2x2|\n",
        "|Dense: 10 neuronios|\n",
        "\n"
      ]
    },
    {
      "cell_type": "markdown",
      "metadata": {
        "id": "sBB71gzNS6Em"
      },
      "source": [
        "Dicas:\n",
        "1. Use uma camada do tipo Flatten para transformar o output do terceiro max\n",
        "pooling (que será um tensor) em um vetor;\n",
        "2. Use o parâmetro padding='same' em TODAS as camadas convolucionais,\n",
        "para que a convolução trate as bordas da imagem (e não haja redução no\n",
        "tamanho dos tensores).\n"
      ]
    },
    {
      "cell_type": "code",
      "execution_count": 6,
      "metadata": {
        "id": "qKjik90AS6En"
      },
      "outputs": [],
      "source": [
        "from keras.models import Sequential\n",
        "from keras.layers import Dense, Conv2D, Flatten, MaxPooling2D\n",
        "import tensorflow as tf"
      ]
    },
    {
      "cell_type": "code",
      "execution_count": 7,
      "metadata": {
        "id": "F3CPQbtlS6En"
      },
      "outputs": [],
      "source": [
        "def create_model():\n",
        "    model = Sequential()\n",
        "    model.add(Conv2D(16, kernel_size=(3,3), activation='relu', input_shape=(32,32,3), padding='same'))\n",
        "    model.add(MaxPooling2D(pool_size=(2,2), padding='same'))\n",
        "    model.add(Conv2D(16, kernel_size=(3,3), activation='relu', padding='same'))\n",
        "    model.add(Conv2D(16, kernel_size=(3,3), activation='relu', padding='same'))\n",
        "    model.add(MaxPooling2D(pool_size=(2,2), padding='same'))\n",
        "    model.add(Conv2D(16, kernel_size=(3,3), activation='relu', padding='same'))\n",
        "    model.add(Conv2D(16, kernel_size=(3,3), activation='relu', padding='same'))\n",
        "    model.add(MaxPooling2D(pool_size=(2,2), padding='same'))\n",
        "    model.add(Flatten())\n",
        "    model.add(Dense(10, activation=tf.keras.activations.softmax))\n",
        "\n",
        "    return model\n"
      ]
    },
    {
      "cell_type": "markdown",
      "metadata": {
        "id": "qs8i0QegS6En"
      },
      "source": [
        "# Questão 2 (valor 2 pontos)\n",
        "Carregue as duas bases de dados (CIFAR-10 e SVHN):"
      ]
    },
    {
      "cell_type": "markdown",
      "metadata": {
        "id": "J7MhsyymS6Eo"
      },
      "source": [
        "#### a) Ao carregar a base de dados CIFAR-10 você irá notar que y_train e y_test têm duas dimensões. Transforme eles em vetores."
      ]
    },
    {
      "cell_type": "code",
      "execution_count": 8,
      "metadata": {
        "id": "_81ukNAcS6Eo"
      },
      "outputs": [],
      "source": [
        "import numpy as np\n",
        "\n",
        "cifar10 = tf.keras.datasets.cifar10\n",
        "(c10_X_train, c10_y_train), (c10_X_test, c10_y_test) = cifar10.load_data()"
      ]
    },
    {
      "cell_type": "code",
      "execution_count": 9,
      "metadata": {
        "colab": {
          "base_uri": "https://localhost:8080/"
        },
        "id": "frj7INf_S6Eo",
        "outputId": "03aa6f80-ff35-4889-d4de-e31edea329c7"
      },
      "outputs": [
        {
          "output_type": "stream",
          "name": "stdout",
          "text": [
            "Shape antes da conversão\n",
            "Para base de treino: X=(50000, 32, 32, 3), y=(50000, 1)\n",
            "Para base de teste: X=(10000, 32, 32, 3), y=(10000, 1)\n",
            "\n",
            "Shape depois da conversão\n",
            "Para base de treino: y=(50000,)\n",
            "Para base de teste: y=(10000,)\n"
          ]
        }
      ],
      "source": [
        "print('Shape antes da conversão')\n",
        "print(f'Para base de treino: X={c10_X_train.shape}, y={c10_y_train.shape}')\n",
        "print(f'Para base de teste: X={c10_X_test.shape}, y={c10_y_test.shape}')\n",
        "\n",
        "c10_y_train = c10_y_train.reshape((-1))\n",
        "c10_y_test = c10_y_test.reshape((-1))\n",
        "\n",
        "print('\\nShape depois da conversão')\n",
        "print(f'Para base de treino: y={c10_y_train.shape}')\n",
        "print(f'Para base de teste: y={c10_y_test.shape}')"
      ]
    },
    {
      "cell_type": "markdown",
      "metadata": {
        "id": "2ww3kXRNS6Eo"
      },
      "source": [
        "#### b) Ao carregar a base de dados SVHN, e entender sua estrutura, você irá notar que X_train e X_test estão com as dimensões em uma ordem diferente da que usamos na aula (e que o Keras usa por padrão). Transforme tais arrays para ter a ordem que normalmente usamos (id da imagem, linhas, colunas e canais);\n"
      ]
    },
    {
      "cell_type": "code",
      "execution_count": 10,
      "metadata": {
        "colab": {
          "base_uri": "https://localhost:8080/"
        },
        "id": "PR65cizUS6Ep",
        "outputId": "e583f73f-551a-4544-a0ba-e957271e477d"
      },
      "outputs": [
        {
          "output_type": "stream",
          "name": "stdout",
          "text": [
            "Shapes dos dados antes da conversão:\n",
            "Para base de treino: X=(32, 32, 3, 26032), y=(26032, 1)\n",
            "Para base de teste: X=(32, 32, 3, 73257), y=(73257, 1)\n"
          ]
        }
      ],
      "source": [
        "import scipy.io as sio\n",
        "\n",
        "SVHN_test = sio.loadmat('test_32x32.mat')\n",
        "SVHN_train = sio.loadmat('train_32x32.mat')\n",
        "\n",
        "SVHN_X_test, SVHN_y_test = SVHN_test['X'], SVHN_test['y']\n",
        "SVHN_X_train, SVHN_y_train = SVHN_train['X'], SVHN_train['y']\n",
        "\n",
        "print('Shapes dos dados antes da conversão:')\n",
        "print(f'Para base de treino: X={SVHN_X_test.shape}, y={SVHN_y_test.shape}')\n",
        "print(f'Para base de teste: X={SVHN_X_train.shape}, y={SVHN_y_train.shape}')"
      ]
    },
    {
      "cell_type": "code",
      "source": [
        "del SVHN_test, SVHN_train"
      ],
      "metadata": {
        "id": "aOrvbLAvagxJ"
      },
      "execution_count": 11,
      "outputs": []
    },
    {
      "cell_type": "markdown",
      "metadata": {
        "id": "tQAizdP4S6Ep"
      },
      "source": [
        "O padrão até então utilizado é usando imagens 32x32 com 3 canais RBG, com isto o shape 32x32x3, que é comum nos dois exemplos. Porém o que diferencia é a quantidade de imagens N, que é mais utilizada sendo Nx32x32x3 e neste caso temos 32x32x3xN."
      ]
    },
    {
      "cell_type": "code",
      "execution_count": 12,
      "metadata": {
        "colab": {
          "base_uri": "https://localhost:8080/"
        },
        "id": "oVSvi-McS6Ep",
        "outputId": "b5651f2f-b395-4c2d-f7fa-3bde5e87297f"
      },
      "outputs": [
        {
          "output_type": "stream",
          "name": "stdout",
          "text": [
            "Shapes dos dados depois da conversão:\n",
            "Para base de treino: X=(26032, 32, 32, 3), y=(26032,)\n",
            "Para base de teste: X=(73257, 32, 32, 3), y=(73257,)\n"
          ]
        }
      ],
      "source": [
        "# Trocando a ultima dimensao (indice 3) para 0 e shiftando 1 para a direita com as demais\n",
        "\n",
        "SVHN_X_test= np.transpose(SVHN_X_test,(3,0,1,2))\n",
        "SVHN_X_train= np.transpose(SVHN_X_train,(3,0,1,2))\n",
        "\n",
        "SVHN_y_test = SVHN_y_test.reshape((-1))\n",
        "SVHN_y_train = SVHN_y_train.reshape((-1))\n",
        "\n",
        "print('Shapes dos dados depois da conversão:')\n",
        "print(f'Para base de treino: X={SVHN_X_test.shape}, y={SVHN_y_test.shape}')\n",
        "print(f'Para base de teste: X={SVHN_X_train.shape}, y={SVHN_y_train.shape}')"
      ]
    },
    {
      "cell_type": "markdown",
      "metadata": {
        "id": "Mt8lwuF9S6Ep"
      },
      "source": [
        "#### c) Transforme o valor dos pixels das imagens para o intervalo [0; 1];\n"
      ]
    },
    {
      "cell_type": "code",
      "execution_count": 13,
      "metadata": {
        "colab": {
          "base_uri": "https://localhost:8080/"
        },
        "id": "ljEmhw3WS6Ep",
        "outputId": "9efc1882-69b5-4e10-a4b3-20f1aecb1505"
      },
      "outputs": [
        {
          "output_type": "stream",
          "name": "stdout",
          "text": [
            "Valor minimo: 0\n",
            "Valor maximo: 255\n",
            "\n",
            "Novo valor minimo: 0.0\n",
            "Novo valor maximo: 1.0\n"
          ]
        }
      ],
      "source": [
        "# Cada canal R, G e B possui 2^8 = 256 cores distintas\n",
        "# possuindo valores entre 0 e 255, como podemos ver\n",
        "print(f'Valor minimo: {SVHN_X_train.min()}')\n",
        "print(f'Valor maximo: {SVHN_X_train.max()}')\n",
        "print('')\n",
        "\n",
        "# Com isto, basta dividir por 255 para normalizar entre 0 e 1\n",
        "SVHN_X_train = np.float16(SVHN_X_train/255)\n",
        "SVHN_X_test = np.float16(SVHN_X_test/255)\n",
        "c10_X_test = np.float16(c10_X_test/255)\n",
        "c10_X_train = np.float16(c10_X_train/255)\n",
        "\n",
        "# Verificando se os valores estao no intervalo [0;1]\n",
        "\n",
        "print(f'Novo valor minimo: {SVHN_X_train.min()}')\n",
        "print(f'Novo valor maximo: {SVHN_X_train.max()}')"
      ]
    },
    {
      "cell_type": "markdown",
      "metadata": {
        "id": "zk4pA-WvS6Eq"
      },
      "source": [
        "### d) Para cada uma das duas bases, compute:\n",
        "- Quantidade de imagens de treino e teste\n",
        "- Tamanho (número de linhas, colunas e canais) das imagens\n",
        "- Distribuição das classes\n"
      ]
    },
    {
      "cell_type": "markdown",
      "metadata": {
        "id": "jpi5QlJ0S6Eq"
      },
      "source": [
        "Como explicado anteriormente (item b), podemos obter a quantidade de imagens vendo o primeiro numero do shape. E o tamanho será as 3 demais dimensoes"
      ]
    },
    {
      "cell_type": "code",
      "execution_count": 14,
      "metadata": {
        "id": "LmDpz0hOS6Eq"
      },
      "outputs": [],
      "source": [
        "import seaborn as sns\n",
        "\n",
        "def print_info(X, y):\n",
        "    print(f'Quantidade de imagens =', X.shape[0])\n",
        "    print(f'Numero de linhas = {X.shape[1]}, numero de colunas = {X.shape[2]}')\n",
        "    print(f'Quantidade de canais = {X.shape[3]}\\n')\n",
        "\n",
        "    print(f'Quantidade de classes distintas = {len(np.unique(y))}')\n",
        "    sns.histplot(y)\n"
      ]
    },
    {
      "cell_type": "code",
      "execution_count": 15,
      "metadata": {
        "colab": {
          "base_uri": "https://localhost:8080/",
          "height": 559
        },
        "id": "KSslQ6JMS6Eq",
        "outputId": "b83e3aa6-321d-4362-fcb8-ffa287b74fb6"
      },
      "outputs": [
        {
          "output_type": "stream",
          "name": "stdout",
          "text": [
            "Para os dados de treino do Cifar 10:\n",
            "\n",
            "Quantidade de imagens = 50000\n",
            "Numero de linhas = 32, numero de colunas = 32\n",
            "Quantidade de canais = 3\n",
            "\n",
            "Quantidade de classes distintas = 10\n"
          ]
        },
        {
          "output_type": "display_data",
          "data": {
            "text/plain": [
              "<Figure size 640x480 with 1 Axes>"
            ],
            "image/png": "[encoded data removed]"
          },
          "metadata": {}
        }
      ],
      "source": [
        "print('Para os dados de treino do Cifar 10:\\n')\n",
        "print_info(c10_X_train, c10_y_train)"
      ]
    },
    {
      "cell_type": "code",
      "execution_count": 16,
      "metadata": {
        "colab": {
          "base_uri": "https://localhost:8080/",
          "height": 559
        },
        "id": "7EN5hfYtS6Eq",
        "outputId": "6ce95ece-749c-4d0a-86b9-c93769cb2429"
      },
      "outputs": [
        {
          "output_type": "stream",
          "name": "stdout",
          "text": [
            "Para os dados de teste do Cifar 10:\n",
            "\n",
            "Quantidade de imagens = 10000\n",
            "Numero de linhas = 32, numero de colunas = 32\n",
            "Quantidade de canais = 3\n",
            "\n",
            "Quantidade de classes distintas = 10\n"
          ]
        },
        {
          "output_type": "display_data",
          "data": {
            "text/plain": [
              "<Figure size 640x480 with 1 Axes>"
            ],
            "image/png": "[encoded data removed]"
          },
          "metadata": {}
        }
      ],
      "source": [
        "print('Para os dados de teste do Cifar 10:\\n')\n",
        "print_info(c10_X_test, c10_y_test)"
      ]
    },
    {
      "cell_type": "code",
      "execution_count": 17,
      "metadata": {
        "colab": {
          "base_uri": "https://localhost:8080/",
          "height": 559
        },
        "id": "23H7sTAjS6Eq",
        "outputId": "57815251-48c3-440c-b913-75256dae8bae"
      },
      "outputs": [
        {
          "output_type": "stream",
          "name": "stdout",
          "text": [
            "Para os dados de treino do SVHN:\n",
            "\n",
            "Quantidade de imagens = 73257\n",
            "Numero de linhas = 32, numero de colunas = 32\n",
            "Quantidade de canais = 3\n",
            "\n",
            "Quantidade de classes distintas = 10\n"
          ]
        },
        {
          "output_type": "display_data",
          "data": {
            "text/plain": [
              "<Figure size 640x480 with 1 Axes>"
            ],
            "image/png": "[encoded data removed]"
          },
          "metadata": {}
        }
      ],
      "source": [
        "print('Para os dados de treino do SVHN:\\n')\n",
        "print_info(SVHN_X_train, SVHN_y_train)"
      ]
    },
    {
      "cell_type": "code",
      "execution_count": 18,
      "metadata": {
        "colab": {
          "base_uri": "https://localhost:8080/",
          "height": 559
        },
        "id": "L_D7VGwfS6Eq",
        "outputId": "3b461ccd-dccc-4404-b9a6-1af9349164d1"
      },
      "outputs": [
        {
          "output_type": "stream",
          "name": "stdout",
          "text": [
            "Para os dados de treino do SVHN:\n",
            "\n",
            "Quantidade de imagens = 26032\n",
            "Numero de linhas = 32, numero de colunas = 32\n",
            "Quantidade de canais = 3\n",
            "\n",
            "Quantidade de classes distintas = 10\n"
          ]
        },
        {
          "output_type": "display_data",
          "data": {
            "text/plain": [
              "<Figure size 640x480 with 1 Axes>"
            ],
            "image/png": "[encoded data removed]"
          },
          "metadata": {}
        }
      ],
      "source": [
        "print('Para os dados de treino do SVHN:\\n')\n",
        "print_info(SVHN_X_test, SVHN_y_test)"
      ]
    },
    {
      "cell_type": "markdown",
      "metadata": {
        "id": "1tYV4yQxS6Eq"
      },
      "source": [
        "Dicas (que podem facilitar muito esse e os próximos itens):\n",
        "1. A função loadmat da biblioteca scipy permite fazer a leitura dos arquivos\n",
        ".mat (base SVHN);\n",
        "2. Converter as imagens (X_train e X_test) para float16 pode ajudar a reduzir o\n",
        "consumo de RAM. O numpy permite fazer tal conversão com um código do\n",
        "tipo: np.float16(X);\n",
        "3. Converter as classes (y_train e y_test) para uint8 permite reduzir o consumo\n",
        "de RAM."
      ]
    },
    {
      "cell_type": "markdown",
      "metadata": {
        "id": "HjyLkea4S6Er"
      },
      "source": [
        "# Questão 3 (valor 2 pontos)\n",
        "Vamos gerar versões ruidosas das bases de imagens e ver como isso afeta sua\n",
        "qualidade visual.\n"
      ]
    },
    {
      "cell_type": "markdown",
      "metadata": {
        "id": "AVO7RxLBS6Er"
      },
      "source": [
        "#### a) Gerar versões das duas bases de dados afetadas por ruído gaussiano com variâncias de 0.001 e 0.01, respectivamente;\n"
      ]
    },
    {
      "cell_type": "code",
      "source": [
        "from skimage.util import random_noise\n",
        "\n",
        "def gen_noise(X_train, X_test, var):\n",
        "  X_train_noise = random_noise(X_train, mode='gaussian', var=var)\n",
        "  X_test_noise = random_noise(X_test, mode='gaussian', var=var)\n",
        "\n",
        "  return np.float16(X_train_noise), np.float16(X_test_noise)"
      ],
      "metadata": {
        "id": "upkaeP3ecb3V"
      },
      "execution_count": 19,
      "outputs": []
    },
    {
      "cell_type": "code",
      "execution_count": 20,
      "metadata": {
        "id": "APVcVXIJS6Er"
      },
      "outputs": [],
      "source": [
        "from skimage.util import random_noise\n",
        "\n",
        "c10_X_train_n001, c10_X_test_n001 = gen_noise(c10_X_train, c10_X_test, 0.001)\n",
        "c10_X_train_n01, c10_X_test_n01 = gen_noise(c10_X_train, c10_X_test, 0.01)\n",
        "\n",
        "SVHN_X_train_n001, SVHN_X_test_n001 = gen_noise(SVHN_X_train, SVHN_X_test, 0.001)\n",
        "SVHN_X_train_n01, SVHN_X_test_n01 = gen_noise(SVHN_X_train, SVHN_X_test, 0.01)"
      ]
    },
    {
      "cell_type": "markdown",
      "metadata": {
        "id": "TPvOzy9LS6Er"
      },
      "source": [
        "#### b) Mostrar uma imagem de cada uma das classes em 3 versões (original, Gauss 0.001 e Gauss 0.01). Isso deve ser feito para as duas bases (CIFAR-10 e SVHN).\n",
        "O ruído gaussiano gera imagens parecidas com as do seguinte exemplo, no qual\n",
        "temos: as imagens originais na primeira linha, imagens com ruído gaussiano (var\n",
        "0.001) na segunda linha e imagens com ruído gaussiano (var 0.01) na terceira linha."
      ]
    },
    {
      "cell_type": "markdown",
      "metadata": {
        "id": "3a5xm3oZS6Er"
      },
      "source": [
        "\n",
        "Dica:\n",
        "1. Para gerar as imagens com ruído gaussiano use a função random_noise da\n",
        "biblioteca scikit-image. Tal função de ser usada da seguinte forma:\n",
        "random_noise(img_original, mode='gaussian', var=0.01)"
      ]
    },
    {
      "cell_type": "code",
      "execution_count": 21,
      "metadata": {
        "id": "8RwxeiACS6Er"
      },
      "outputs": [],
      "source": [
        "import matplotlib.pyplot as plt\n",
        "from PIL import Image\n",
        "\n",
        "def show_imgs(X, X_noise001, X_noise01, qnt_img, random_imgs=False):\n",
        "    begin = 0\n",
        "\n",
        "    if(random_imgs):\n",
        "        begin = np.random.randint(np.random.randint(X.shape[0]-qnt_img))\n",
        "\n",
        "    end = begin + qnt_img\n",
        "\n",
        "    for counter, i in enumerate(range(begin, end)):\n",
        "        img_clean = Image.fromarray(np.uint8(X[i]*255))\n",
        "        img_noise001 = Image.fromarray(np.uint8(X_noise001[i]*255))\n",
        "        img_noise01 = Image.fromarray(np.uint8(X_noise01[i]*255))\n",
        "\n",
        "        plt.subplot(3,qnt_img,counter+1)\n",
        "        plt.axis('off')\n",
        "        plt.imshow(img_clean)\n",
        "\n",
        "        plt.subplot(3,qnt_img,counter+1+qnt_img)\n",
        "        plt.axis('off')\n",
        "        plt.imshow(img_noise001)\n",
        "\n",
        "        plt.subplot(3,qnt_img,counter+1+(2*qnt_img))\n",
        "        plt.axis('off')\n",
        "        plt.imshow(img_noise01)"
      ]
    },
    {
      "cell_type": "code",
      "execution_count": 22,
      "metadata": {
        "colab": {
          "base_uri": "https://localhost:8080/",
          "height": 405
        },
        "id": "YfHCZ4pJS6Er",
        "outputId": "ade1756b-c60a-450e-ae67-cc384abab7e0"
      },
      "outputs": [
        {
          "output_type": "display_data",
          "data": {
            "text/plain": [
              "<Figure size 640x480 with 12 Axes>"
            ],
            "image/png": "[encoded data removed]"
          },
          "metadata": {}
        }
      ],
      "source": [
        "show_imgs(c10_X_train, c10_X_train_n001, c10_X_train_n01, 4, random_imgs=True)"
      ]
    },
    {
      "cell_type": "code",
      "execution_count": 23,
      "metadata": {
        "colab": {
          "base_uri": "https://localhost:8080/",
          "height": 405
        },
        "id": "t_66jjzwS6Es",
        "outputId": "467986d0-5bd2-4f01-ac27-dc264cb8dc1f"
      },
      "outputs": [
        {
          "output_type": "display_data",
          "data": {
            "text/plain": [
              "<Figure size 640x480 with 12 Axes>"
            ],
            "image/png": "[encoded data removed]"
          },
          "metadata": {}
        }
      ],
      "source": [
        "show_imgs(SVHN_X_train, SVHN_X_train_n001, SVHN_X_train_n01, 4, random_imgs=True)\n"
      ]
    },
    {
      "cell_type": "markdown",
      "metadata": {
        "id": "umdyoRe3S6Es"
      },
      "source": [
        "# Questão 4 (valor 2 pontos)\n",
        "Treinar uma versão do modelo para cada versão das bases de dados. Ou seja, você\n",
        "deve treinar os seguintes seis modelos:\n",
        "1. Modelo treinado na CIFAR-10 original;\n",
        "2. Modelo treinado na CIFAR-10 Gauss 0.001;\n",
        "3. Modelo treinado na CIFAR-10 Gauss 0.01;\n",
        "4. Modelo treinado na SVHN original;\n",
        "5. Modelo treinado na SVHN Gauss 0.001;\n",
        "6. Modelo treinado na SVHN Gauss 0.01;\n",
        "\n",
        "\n",
        "Todos os modelos devem ser treinado usando:\n",
        "- Adam como otimizador;\n",
        "- Por 10 epocas;\n",
        "- Os demais parâmetros devem ser deixados como padrão.\n",
        "\n",
        "Dica:\n",
        "1. Você pode salvar os modelos e depois carregá-los novamente, com as\n",
        "funções save e load_model. Verifique a documentação do Keras."
      ]
    },
    {
      "cell_type": "code",
      "execution_count": 24,
      "metadata": {
        "id": "E3RI6tvdS6Es"
      },
      "outputs": [],
      "source": [
        "# Para usar o modelo, passando para categorias\n",
        "from tensorflow.keras.utils import to_categorical\n",
        "\n",
        "c10_y_train = np.uint8(to_categorical(c10_y_train))\n",
        "c10_y_test = np.uint8(to_categorical(c10_y_test))\n",
        "\n",
        "# No dataset SVHN possuimos 10 classes, porem sao rotuladas entre 1 e 10\n",
        "# Para usar o to_categorical, sera shiftado para esquerda\n",
        "# Desta forma as classes sao rotuladas entre 0 e 9\n",
        "\n",
        "SVHN_y_train = SVHN_y_train-1\n",
        "SVHN_y_test = SVHN_y_test-1\n",
        "SVHN_y_train = np.uint8(to_categorical(SVHN_y_train))\n",
        "SVHN_y_test = np.uint8(to_categorical(SVHN_y_test))"
      ]
    },
    {
      "cell_type": "code",
      "execution_count": 25,
      "metadata": {
        "id": "S3HEX-CpS6Es"
      },
      "outputs": [],
      "source": [
        "def train_model(model, X_train, y_train, X_test, y_test):\n",
        "\n",
        "    model.compile(optimizer='adam', loss='categorical_crossentropy', metrics=['accuracy'])\n",
        "    model.fit(\n",
        "        X_train,\n",
        "        y_train,\n",
        "        validation_data=(X_test, y_test),\n",
        "        epochs=10\n",
        "    )\n"
      ]
    },
    {
      "cell_type": "code",
      "execution_count": 26,
      "metadata": {
        "colab": {
          "base_uri": "https://localhost:8080/"
        },
        "id": "OsUFTM6WS6Es",
        "outputId": "00859652-4ad9-46e0-a067-e3bf4de282a9"
      },
      "outputs": [
        {
          "output_type": "stream",
          "name": "stdout",
          "text": [
            "Epoch 1/10\n",
            "1563/1563 [==============================] - 20s 6ms/step - loss: 1.6140 - accuracy: 0.4094 - val_loss: 1.3679 - val_accuracy: 0.5036\n",
            "Epoch 2/10\n",
            "1563/1563 [==============================] - 10s 6ms/step - loss: 1.3174 - accuracy: 0.5288 - val_loss: 1.2635 - val_accuracy: 0.5498\n",
            "Epoch 3/10\n",
            "1563/1563 [==============================] - 10s 6ms/step - loss: 1.1829 - accuracy: 0.5835 - val_loss: 1.1440 - val_accuracy: 0.6030\n",
            "Epoch 4/10\n",
            "1563/1563 [==============================] - 9s 6ms/step - loss: 1.0999 - accuracy: 0.6126 - val_loss: 1.0745 - val_accuracy: 0.6244\n",
            "Epoch 5/10\n",
            "1563/1563 [==============================] - 10s 6ms/step - loss: 1.0392 - accuracy: 0.6315 - val_loss: 1.0372 - val_accuracy: 0.6378\n",
            "Epoch 6/10\n",
            "1563/1563 [==============================] - 9s 6ms/step - loss: 0.9955 - accuracy: 0.6496 - val_loss: 1.0290 - val_accuracy: 0.6365\n",
            "Epoch 7/10\n",
            "1563/1563 [==============================] - 9s 6ms/step - loss: 0.9571 - accuracy: 0.6619 - val_loss: 1.0049 - val_accuracy: 0.6500\n",
            "Epoch 8/10\n",
            "1563/1563 [==============================] - 10s 6ms/step - loss: 0.9369 - accuracy: 0.6716 - val_loss: 1.0399 - val_accuracy: 0.6387\n",
            "Epoch 9/10\n",
            "1563/1563 [==============================] - 9s 6ms/step - loss: 0.9105 - accuracy: 0.6794 - val_loss: 0.9685 - val_accuracy: 0.6658\n",
            "Epoch 10/10\n",
            "1563/1563 [==============================] - 9s 6ms/step - loss: 0.8816 - accuracy: 0.6899 - val_loss: 0.9508 - val_accuracy: 0.6703\n"
          ]
        },
        {
          "output_type": "stream",
          "name": "stderr",
          "text": [
            "WARNING:absl:Found untraced functions such as _jit_compiled_convolution_op, _jit_compiled_convolution_op, _jit_compiled_convolution_op, _jit_compiled_convolution_op, _jit_compiled_convolution_op while saving (showing 5 of 5). These functions will not be directly callable after loading.\n"
          ]
        }
      ],
      "source": [
        "model_c10 = create_model()\n",
        "train_model(model_c10, c10_X_train, c10_y_train, c10_X_test, c10_y_test)\n",
        "\n",
        "#model_c10.save('model_c10')"
      ]
    },
    {
      "cell_type": "code",
      "execution_count": 27,
      "metadata": {
        "colab": {
          "base_uri": "https://localhost:8080/"
        },
        "id": "hvrQIIGLS6Es",
        "outputId": "0bfd84a9-16ee-42f1-ef36-17e0390d73be"
      },
      "outputs": [
        {
          "output_type": "stream",
          "name": "stdout",
          "text": [
            "Epoch 1/10\n",
            "1563/1563 [==============================] - 12s 6ms/step - loss: 1.6458 - accuracy: 0.4008 - val_loss: 1.5078 - val_accuracy: 0.4436\n",
            "Epoch 2/10\n",
            "1563/1563 [==============================] - 9s 6ms/step - loss: 1.3281 - accuracy: 0.5223 - val_loss: 1.2786 - val_accuracy: 0.5360\n",
            "Epoch 3/10\n",
            "1563/1563 [==============================] - 9s 6ms/step - loss: 1.1949 - accuracy: 0.5746 - val_loss: 1.2018 - val_accuracy: 0.5754\n",
            "Epoch 4/10\n",
            "1563/1563 [==============================] - 10s 6ms/step - loss: 1.1086 - accuracy: 0.6061 - val_loss: 1.1053 - val_accuracy: 0.6101\n",
            "Epoch 5/10\n",
            "1563/1563 [==============================] - 9s 6ms/step - loss: 1.0445 - accuracy: 0.6309 - val_loss: 1.0506 - val_accuracy: 0.6273\n",
            "Epoch 6/10\n",
            "1563/1563 [==============================] - 9s 6ms/step - loss: 0.9980 - accuracy: 0.6482 - val_loss: 1.0579 - val_accuracy: 0.6271\n",
            "Epoch 7/10\n",
            "1563/1563 [==============================] - 10s 6ms/step - loss: 0.9635 - accuracy: 0.6584 - val_loss: 0.9994 - val_accuracy: 0.6463\n",
            "Epoch 8/10\n",
            "1563/1563 [==============================] - 10s 6ms/step - loss: 0.9328 - accuracy: 0.6700 - val_loss: 1.0281 - val_accuracy: 0.6429\n",
            "Epoch 9/10\n",
            "1563/1563 [==============================] - 9s 6ms/step - loss: 0.9072 - accuracy: 0.6789 - val_loss: 0.9547 - val_accuracy: 0.6662\n",
            "Epoch 10/10\n",
            "1563/1563 [==============================] - 10s 6ms/step - loss: 0.8845 - accuracy: 0.6887 - val_loss: 0.9576 - val_accuracy: 0.6652\n"
          ]
        },
        {
          "output_type": "stream",
          "name": "stderr",
          "text": [
            "WARNING:absl:Found untraced functions such as _jit_compiled_convolution_op, _jit_compiled_convolution_op, _jit_compiled_convolution_op, _jit_compiled_convolution_op, _jit_compiled_convolution_op while saving (showing 5 of 5). These functions will not be directly callable after loading.\n"
          ]
        }
      ],
      "source": [
        "model_c10_n001 = create_model()\n",
        "train_model(model_c10_n001, c10_X_train_n001, c10_y_train, c10_X_test_n001, c10_y_test)\n",
        "\n",
        "#model_c10_n001.save('model_c10_n001')"
      ]
    },
    {
      "cell_type": "code",
      "execution_count": 28,
      "metadata": {
        "colab": {
          "base_uri": "https://localhost:8080/"
        },
        "id": "sNYjI302S6Es",
        "outputId": "8d2f101f-afc4-4b88-fb4b-6101fcb464b7"
      },
      "outputs": [
        {
          "output_type": "stream",
          "name": "stdout",
          "text": [
            "Epoch 1/10\n",
            "1563/1563 [==============================] - 12s 6ms/step - loss: 1.6856 - accuracy: 0.3868 - val_loss: 1.5158 - val_accuracy: 0.4513\n",
            "Epoch 2/10\n",
            "1563/1563 [==============================] - 9s 6ms/step - loss: 1.3956 - accuracy: 0.4956 - val_loss: 1.3095 - val_accuracy: 0.5240\n",
            "Epoch 3/10\n",
            "1563/1563 [==============================] - 9s 6ms/step - loss: 1.2772 - accuracy: 0.5449 - val_loss: 1.2852 - val_accuracy: 0.5393\n",
            "Epoch 4/10\n",
            "1563/1563 [==============================] - 9s 6ms/step - loss: 1.1937 - accuracy: 0.5742 - val_loss: 1.1833 - val_accuracy: 0.5739\n",
            "Epoch 5/10\n",
            "1563/1563 [==============================] - 9s 6ms/step - loss: 1.1416 - accuracy: 0.5926 - val_loss: 1.1493 - val_accuracy: 0.5908\n",
            "Epoch 6/10\n",
            "1563/1563 [==============================] - 9s 6ms/step - loss: 1.0951 - accuracy: 0.6111 - val_loss: 1.1403 - val_accuracy: 0.5944\n",
            "Epoch 7/10\n",
            "1563/1563 [==============================] - 9s 6ms/step - loss: 1.0595 - accuracy: 0.6258 - val_loss: 1.1042 - val_accuracy: 0.6084\n",
            "Epoch 8/10\n",
            "1563/1563 [==============================] - 10s 6ms/step - loss: 1.0360 - accuracy: 0.6334 - val_loss: 1.0744 - val_accuracy: 0.6236\n",
            "Epoch 9/10\n",
            "1563/1563 [==============================] - 9s 6ms/step - loss: 1.0119 - accuracy: 0.6403 - val_loss: 1.0654 - val_accuracy: 0.6268\n",
            "Epoch 10/10\n",
            "1563/1563 [==============================] - 9s 6ms/step - loss: 0.9900 - accuracy: 0.6494 - val_loss: 1.0829 - val_accuracy: 0.6173\n"
          ]
        },
        {
          "output_type": "stream",
          "name": "stderr",
          "text": [
            "WARNING:absl:Found untraced functions such as _jit_compiled_convolution_op, _jit_compiled_convolution_op, _jit_compiled_convolution_op, _jit_compiled_convolution_op, _jit_compiled_convolution_op while saving (showing 5 of 5). These functions will not be directly callable after loading.\n"
          ]
        }
      ],
      "source": [
        "model_c10_n01 = create_model()\n",
        "train_model(model_c10_n01, c10_X_train_n01, c10_y_train, c10_X_test_n01, c10_y_test)\n",
        "\n",
        "#model_c10_n01.save('model_c10_n01')"
      ]
    },
    {
      "cell_type": "code",
      "execution_count": 29,
      "metadata": {
        "colab": {
          "base_uri": "https://localhost:8080/"
        },
        "id": "qAI0youMS6Et",
        "outputId": "6cca6288-e30d-4bbc-f83d-3f4b64f0a8c8"
      },
      "outputs": [
        {
          "output_type": "stream",
          "name": "stdout",
          "text": [
            "Epoch 1/10\n",
            "2290/2290 [==============================] - 18s 7ms/step - loss: 1.0279 - accuracy: 0.6679 - val_loss: 0.5946 - val_accuracy: 0.8271\n",
            "Epoch 2/10\n",
            "2290/2290 [==============================] - 15s 6ms/step - loss: 0.5210 - accuracy: 0.8442 - val_loss: 0.5237 - val_accuracy: 0.8478\n",
            "Epoch 3/10\n",
            "2290/2290 [==============================] - 14s 6ms/step - loss: 0.4418 - accuracy: 0.8703 - val_loss: 0.4465 - val_accuracy: 0.8710\n",
            "Epoch 4/10\n",
            "2290/2290 [==============================] - 14s 6ms/step - loss: 0.3980 - accuracy: 0.8817 - val_loss: 0.4346 - val_accuracy: 0.8734\n",
            "Epoch 5/10\n",
            "2290/2290 [==============================] - 15s 6ms/step - loss: 0.3688 - accuracy: 0.8901 - val_loss: 0.4104 - val_accuracy: 0.8800\n",
            "Epoch 6/10\n",
            "2290/2290 [==============================] - 15s 6ms/step - loss: 0.3501 - accuracy: 0.8956 - val_loss: 0.3910 - val_accuracy: 0.8864\n",
            "Epoch 7/10\n",
            "2290/2290 [==============================] - 15s 6ms/step - loss: 0.3346 - accuracy: 0.9013 - val_loss: 0.3813 - val_accuracy: 0.8905\n",
            "Epoch 8/10\n",
            "2290/2290 [==============================] - 14s 6ms/step - loss: 0.3226 - accuracy: 0.9051 - val_loss: 0.3710 - val_accuracy: 0.8934\n",
            "Epoch 9/10\n",
            "2290/2290 [==============================] - 17s 7ms/step - loss: 0.3106 - accuracy: 0.9086 - val_loss: 0.3844 - val_accuracy: 0.8897\n",
            "Epoch 10/10\n",
            "2290/2290 [==============================] - 15s 6ms/step - loss: 0.3024 - accuracy: 0.9112 - val_loss: 0.3681 - val_accuracy: 0.8946\n"
          ]
        },
        {
          "output_type": "stream",
          "name": "stderr",
          "text": [
            "WARNING:absl:Found untraced functions such as _jit_compiled_convolution_op, _jit_compiled_convolution_op, _jit_compiled_convolution_op, _jit_compiled_convolution_op, _jit_compiled_convolution_op while saving (showing 5 of 5). These functions will not be directly callable after loading.\n"
          ]
        }
      ],
      "source": [
        "model_SVHN = create_model()\n",
        "train_model(model_SVHN, SVHN_X_train, SVHN_y_train, SVHN_X_test, SVHN_y_test)\n",
        "\n",
        "# model_SVHN.save('model_SVHN')"
      ]
    },
    {
      "cell_type": "code",
      "execution_count": 30,
      "metadata": {
        "colab": {
          "base_uri": "https://localhost:8080/"
        },
        "id": "KO5EIOWRS6E2",
        "outputId": "14450563-eb8d-483b-a0bb-bc7470c445a4"
      },
      "outputs": [
        {
          "output_type": "stream",
          "name": "stdout",
          "text": [
            "Epoch 1/10\n",
            "2290/2290 [==============================] - 18s 7ms/step - loss: 1.2877 - accuracy: 0.5674 - val_loss: 0.7427 - val_accuracy: 0.7737\n",
            "Epoch 2/10\n",
            "2290/2290 [==============================] - 15s 6ms/step - loss: 0.6246 - accuracy: 0.8112 - val_loss: 0.5723 - val_accuracy: 0.8319\n",
            "Epoch 3/10\n",
            "2290/2290 [==============================] - 14s 6ms/step - loss: 0.5050 - accuracy: 0.8498 - val_loss: 0.5092 - val_accuracy: 0.8523\n",
            "Epoch 4/10\n",
            "2290/2290 [==============================] - 15s 6ms/step - loss: 0.4467 - accuracy: 0.8672 - val_loss: 0.4644 - val_accuracy: 0.8674\n",
            "Epoch 5/10\n",
            "2290/2290 [==============================] - 14s 6ms/step - loss: 0.4139 - accuracy: 0.8771 - val_loss: 0.4582 - val_accuracy: 0.8658\n",
            "Epoch 6/10\n",
            "2290/2290 [==============================] - 14s 6ms/step - loss: 0.3936 - accuracy: 0.8837 - val_loss: 0.4516 - val_accuracy: 0.8675\n",
            "Epoch 7/10\n",
            "2290/2290 [==============================] - 14s 6ms/step - loss: 0.3776 - accuracy: 0.8873 - val_loss: 0.4197 - val_accuracy: 0.8786\n",
            "Epoch 8/10\n",
            "2290/2290 [==============================] - 14s 6ms/step - loss: 0.3637 - accuracy: 0.8916 - val_loss: 0.4277 - val_accuracy: 0.8768\n",
            "Epoch 9/10\n",
            "2290/2290 [==============================] - 14s 6ms/step - loss: 0.3527 - accuracy: 0.8949 - val_loss: 0.3989 - val_accuracy: 0.8844\n",
            "Epoch 10/10\n",
            "2290/2290 [==============================] - 15s 6ms/step - loss: 0.3423 - accuracy: 0.8979 - val_loss: 0.3997 - val_accuracy: 0.8867\n"
          ]
        },
        {
          "output_type": "stream",
          "name": "stderr",
          "text": [
            "WARNING:absl:Found untraced functions such as _jit_compiled_convolution_op, _jit_compiled_convolution_op, _jit_compiled_convolution_op, _jit_compiled_convolution_op, _jit_compiled_convolution_op while saving (showing 5 of 5). These functions will not be directly callable after loading.\n"
          ]
        }
      ],
      "source": [
        "model_SVHN_n001 = create_model()\n",
        "train_model(model_SVHN_n001, SVHN_X_train_n001, SVHN_y_train, SVHN_X_test_n001, SVHN_y_test)\n",
        "\n",
        "# model_SVHN_n001.save('model_SVHN_n001')"
      ]
    },
    {
      "cell_type": "code",
      "execution_count": 31,
      "metadata": {
        "colab": {
          "base_uri": "https://localhost:8080/"
        },
        "id": "AAYeuMGBS6E2",
        "outputId": "b3a35d23-5a38-4213-bf44-04027b8db198"
      },
      "outputs": [
        {
          "output_type": "stream",
          "name": "stdout",
          "text": [
            "Epoch 1/10\n",
            "2290/2290 [==============================] - 18s 7ms/step - loss: 1.1104 - accuracy: 0.6337 - val_loss: 0.7057 - val_accuracy: 0.7864\n",
            "Epoch 2/10\n",
            "2290/2290 [==============================] - 15s 6ms/step - loss: 0.6352 - accuracy: 0.8060 - val_loss: 0.6239 - val_accuracy: 0.8137\n",
            "Epoch 3/10\n",
            "2290/2290 [==============================] - 14s 6ms/step - loss: 0.5652 - accuracy: 0.8259 - val_loss: 0.5964 - val_accuracy: 0.8215\n",
            "Epoch 4/10\n",
            "2290/2290 [==============================] - 15s 6ms/step - loss: 0.5251 - accuracy: 0.8387 - val_loss: 0.5541 - val_accuracy: 0.8341\n",
            "Epoch 5/10\n",
            "2290/2290 [==============================] - 14s 6ms/step - loss: 0.4987 - accuracy: 0.8457 - val_loss: 0.5307 - val_accuracy: 0.8407\n",
            "Epoch 6/10\n",
            "2290/2290 [==============================] - 14s 6ms/step - loss: 0.4791 - accuracy: 0.8527 - val_loss: 0.5210 - val_accuracy: 0.8433\n",
            "Epoch 7/10\n",
            "2290/2290 [==============================] - 14s 6ms/step - loss: 0.4630 - accuracy: 0.8575 - val_loss: 0.5391 - val_accuracy: 0.8376\n",
            "Epoch 8/10\n",
            "2290/2290 [==============================] - 14s 6ms/step - loss: 0.4517 - accuracy: 0.8609 - val_loss: 0.4930 - val_accuracy: 0.8519\n",
            "Epoch 9/10\n",
            "2290/2290 [==============================] - 14s 6ms/step - loss: 0.4392 - accuracy: 0.8650 - val_loss: 0.4962 - val_accuracy: 0.8510\n",
            "Epoch 10/10\n",
            "2290/2290 [==============================] - 15s 6ms/step - loss: 0.4284 - accuracy: 0.8684 - val_loss: 0.4926 - val_accuracy: 0.8503\n"
          ]
        },
        {
          "output_type": "stream",
          "name": "stderr",
          "text": [
            "WARNING:absl:Found untraced functions such as _jit_compiled_convolution_op, _jit_compiled_convolution_op, _jit_compiled_convolution_op, _jit_compiled_convolution_op, _jit_compiled_convolution_op while saving (showing 5 of 5). These functions will not be directly callable after loading.\n"
          ]
        }
      ],
      "source": [
        "\n",
        "model_SVHN_n01 = create_model()\n",
        "train_model(model_SVHN_n01, SVHN_X_train_n01, SVHN_y_train, SVHN_X_test_n01, SVHN_y_test)\n",
        "\n",
        "# model_SVHN_n01.save('model_SVHN_n01')"
      ]
    },
    {
      "cell_type": "markdown",
      "metadata": {
        "id": "S9wjbTo1S6E2"
      },
      "source": [
        "# Questão 5 (valor 2 pontos)\n",
        "Agora, vamos tentar entender os impactos do ruído na acurácia dos modelos\n",
        "fazendo os seguintes experimentos:"
      ]
    },
    {
      "cell_type": "markdown",
      "metadata": {
        "id": "GbjTTCrrS6E2"
      },
      "source": [
        "#### a) Calcular a acurácia dos modelos em todas as versões da base de teste. Por exemplo, para o modelo treinado com os dados de treinamento da CIFAR-10 original devemos computar sua acurácia nas bases de teste original, Gauss 0.001 e Gauss 0.01. Ou seja, para cada um dos modelos vamos computar 3 acurácias;"
      ]
    },
    {
      "cell_type": "code",
      "execution_count": 51,
      "metadata": {
        "id": "_nwE-v4wS6E2"
      },
      "outputs": [],
      "source": [
        "def calc_accuracy(model, X_original, X_noise01, X_noise001, y):\n",
        "    acc = {}\n",
        "    _, acc['original'] = np.round(model.evaluate(X_original, y, verbose=0), 5)\n",
        "    _, acc['noise001'] = np.round(model.evaluate(X_noise001, y, verbose=0), 5)\n",
        "    _, acc['noise01'] = np.round(model.evaluate(X_noise01, y, verbose=0), 5)\n",
        "    return acc"
      ]
    },
    {
      "cell_type": "code",
      "execution_count": 52,
      "metadata": {
        "id": "KzrriUrFS6E2"
      },
      "outputs": [],
      "source": [
        "# Utilizando o modelo treinado com os dados CIFAR-10\n",
        "c10_acc_original = calc_accuracy(\n",
        "    model_c10,\n",
        "    c10_X_test,\n",
        "    c10_X_test_n01,\n",
        "    c10_X_test_n001,\n",
        "    c10_y_test\n",
        "  )\n",
        "\n",
        "c10_acc_noise001 = calc_accuracy(\n",
        "    model_c10_n001,\n",
        "    c10_X_test,\n",
        "    c10_X_test_n01,\n",
        "    c10_X_test_n001,\n",
        "    c10_y_test\n",
        "  )\n",
        "\n",
        "c10_acc_noise01 = calc_accuracy(\n",
        "    model_c10_n01,\n",
        "    c10_X_test,\n",
        "    c10_X_test_n01,\n",
        "    c10_X_test_n001,\n",
        "    c10_y_test\n",
        "  )\n",
        "\n",
        "\n"
      ]
    },
    {
      "cell_type": "code",
      "source": [
        "# Utilizando o modelo treinado com os dados SVHN\n",
        "\n",
        "SVHN_acc_original = calc_accuracy(\n",
        "    model_SVHN,\n",
        "    SVHN_X_test,\n",
        "    SVHN_X_test_n01,\n",
        "    SVHN_X_test_n001,\n",
        "    SVHN_y_test\n",
        "  )\n",
        "\n",
        "SVHN_acc_noise001 = calc_accuracy(\n",
        "    model_SVHN_n001,\n",
        "    SVHN_X_test,\n",
        "    SVHN_X_test_n01,\n",
        "    SVHN_X_test_n001,\n",
        "    SVHN_y_test\n",
        "  )\n",
        "\n",
        "SVHN_acc_noise01 = calc_accuracy(\n",
        "    model_SVHN_n01,\n",
        "    SVHN_X_test,\n",
        "    SVHN_X_test_n01,\n",
        "    SVHN_X_test_n001,\n",
        "    SVHN_y_test\n",
        "  )"
      ],
      "metadata": {
        "id": "4AxVhCNksATI"
      },
      "execution_count": 53,
      "outputs": []
    },
    {
      "cell_type": "code",
      "source": [
        "print('DATASET CIFAR-10')\n",
        "print('Modelo treinado na base CIFAR-10 original:')\n",
        "print(f'Resultados dos testes nas diferentes bases: {c10_acc_original}\\n')\n",
        "\n",
        "print('Modelo treinado na base CIFAR-10 com noise de 0.001:')\n",
        "print(f'Resultados dos testes nas diferentes bases: {c10_acc_noise001}\\n')\n",
        "\n",
        "print('Modelo treinado na base CIFAR-10 com noise de 0.01:')\n",
        "print(f'Resultados dos testes nas diferentes bases: {c10_acc_noise01}\\n')"
      ],
      "metadata": {
        "colab": {
          "base_uri": "https://localhost:8080/"
        },
        "id": "QPJS37G8sy2Z",
        "outputId": "8994731b-063d-4d22-cbf3-b0e1f42d5abc"
      },
      "execution_count": 54,
      "outputs": [
        {
          "output_type": "stream",
          "name": "stdout",
          "text": [
            "DATASET CIFAR-10\n",
            "Modelo treinado na base CIFAR-10 original:\n",
            "Resultados dos testes nas diferentes bases: {'original': 0.6703, 'noise001': 0.6433, 'noise01': 0.3948}\n",
            "\n",
            "Modelo treinado na base CIFAR-10 com noise de 0.001:\n",
            "Resultados dos testes nas diferentes bases: {'original': 0.6697, 'noise001': 0.6652, 'noise01': 0.4755}\n",
            "\n",
            "Modelo treinado na base CIFAR-10 com noise de 0.01:\n",
            "Resultados dos testes nas diferentes bases: {'original': 0.5732, 'noise001': 0.5843, 'noise01': 0.6173}\n",
            "\n"
          ]
        }
      ]
    },
    {
      "cell_type": "code",
      "source": [
        "print('DATASET SVHN')\n",
        "print('Modelo treinado na base SVHN original:')\n",
        "print(f'Resultados dos testes nas diferentes bases: {SVHN_acc_original}')\n",
        "\n",
        "print('Modelo treinado na base SVHN com noise de 0.001:')\n",
        "print(f'Resultados dos testes nas diferentes bases: {SVHN_acc_noise001}')\n",
        "\n",
        "print('Modelo treinado na base SVHN com noise de 0.01:')\n",
        "print(f'Resultados dos testes nas diferentes bases: {SVHN_acc_noise01}')"
      ],
      "metadata": {
        "colab": {
          "base_uri": "https://localhost:8080/"
        },
        "id": "EVn6YWarvKph",
        "outputId": "d59a6072-bc2c-4842-a712-147f1aab9b49"
      },
      "execution_count": 55,
      "outputs": [
        {
          "output_type": "stream",
          "name": "stdout",
          "text": [
            "DATASET SVHN\n",
            "Modelo treinado na base SVHN original:\n",
            "Resultados dos testes nas diferentes bases: {'original': 0.89455, 'noise001': 0.8851, 'noise01': 0.78807}\n",
            "Modelo treinado na base SVHN com noise de 0.001:\n",
            "Resultados dos testes nas diferentes bases: {'original': 0.89232, 'noise001': 0.88668, 'noise01': 0.80735}\n",
            "Modelo treinado na base SVHN com noise de 0.01:\n",
            "Resultados dos testes nas diferentes bases: {'original': 0.87419, 'noise001': 0.87381, 'noise01': 0.8503}\n"
          ]
        }
      ]
    },
    {
      "cell_type": "markdown",
      "metadata": {
        "id": "Jhf6N2CNS6E2"
      },
      "source": [
        "#### b) Com bases nesses resultados, discuta qual das duas afirmações mais explica as variações de acurácia dos nossos experimentos:\n"
      ]
    },
    {
      "cell_type": "markdown",
      "metadata": {
        "id": "fytbxxmpS6E3"
      },
      "source": [
        "i) O ruído torna o problema mais difícil, logo fica mais difícil para o modelo aprender com dados ruidosos;"
      ]
    },
    {
      "cell_type": "markdown",
      "metadata": {
        "id": "lXXkXSjVS6E3"
      },
      "source": [
        "ii) Quando um modelo é exposto a dados bastante diferentes dos de seu treinamento (e.g. com bastante ruído) sua acurácia pode cair"
      ]
    },
    {
      "cell_type": "markdown",
      "source": [
        "A afirmação ii) aparenta estar mais completa, pois é possivel notar que ao aplicar ruido nos dados de treinamento e testar com dados ruidosos a acuracia não muda significativamente. Mesmo que um modelo seja treinado em uma base de dados limpa, quando aplicado em uma base com ruídos, o problema é maior.\n",
        "\n",
        "A melhor acuracia é do modelo treinado e testado na base sem ruído. Porém o modelo treinado na base sem ruído possui as piores acuracias quando testado em bases com ruídos. Isto ocorre em ambos dataset's."
      ],
      "metadata": {
        "id": "I1eIr4ze_1pw"
      }
    }
  ],
  "metadata": {
    "kernelspec": {
      "display_name": "Python 3",
      "name": "python3"
    },
    "language_info": {
      "codemirror_mode": {
        "name": "ipython",
        "version": 3
      },
      "file_extension": ".py",
      "mimetype": "text/x-python",
      "name": "python",
      "nbconvert_exporter": "python",
      "pygments_lexer": "ipython3",
      "version": "3.11.1"
    },
    "orig_nbformat": 4,
    "colab": {
      "provenance": [],
      "gpuType": "T4"
    },
    "accelerator": "GPU"
  },
  "nbformat": 4,
  "nbformat_minor": 0
}